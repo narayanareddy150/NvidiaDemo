{
 "cells": [
  {
   "cell_type": "code",
   "execution_count": 1,
   "id": "129ccb5e",
   "metadata": {},
   "outputs": [
    {
     "data": {
      "text/plain": [
       "'/home/tadi'"
      ]
     },
     "execution_count": 1,
     "metadata": {},
     "output_type": "execute_result"
    }
   ],
   "source": [
    "pwd"
   ]
  },
  {
   "cell_type": "code",
   "execution_count": 15,
   "id": "351b590e",
   "metadata": {},
   "outputs": [
    {
     "name": "stdout",
     "output_type": "stream",
     "text": [
      "<class 'int'>\n"
     ]
    }
   ],
   "source": [
    "a=26 +2\n",
    "print(type(a))"
   ]
  },
  {
   "cell_type": "code",
   "execution_count": 16,
   "id": "2ad8c55d",
   "metadata": {},
   "outputs": [
    {
     "data": {
      "text/plain": [
       "28"
      ]
     },
     "execution_count": 16,
     "metadata": {},
     "output_type": "execute_result"
    }
   ],
   "source": [
    "a"
   ]
  },
  {
   "cell_type": "code",
   "execution_count": 12,
   "id": "0119cdf7",
   "metadata": {},
   "outputs": [
    {
     "data": {
      "text/plain": [
       "5.551115123125783e-17"
      ]
     },
     "execution_count": 12,
     "metadata": {},
     "output_type": "execute_result"
    }
   ],
   "source": [
    ".1+.2-.3"
   ]
  },
  {
   "cell_type": "code",
   "execution_count": 18,
   "id": "f0ed5695",
   "metadata": {},
   "outputs": [],
   "source": [
    "a=[\"nani\",\"nanu\"]"
   ]
  },
  {
   "cell_type": "code",
   "execution_count": 19,
   "id": "5393bde8",
   "metadata": {},
   "outputs": [
    {
     "data": {
      "text/plain": [
       "['nani', 'nanu']"
      ]
     },
     "execution_count": 19,
     "metadata": {},
     "output_type": "execute_result"
    }
   ],
   "source": [
    "a"
   ]
  },
  {
   "cell_type": "code",
   "execution_count": 20,
   "id": "be080430",
   "metadata": {},
   "outputs": [
    {
     "data": {
      "text/plain": [
       "list"
      ]
     },
     "execution_count": 20,
     "metadata": {},
     "output_type": "execute_result"
    }
   ],
   "source": [
    "type(a)"
   ]
  },
  {
   "cell_type": "code",
   "execution_count": 21,
   "id": "ee02ce30",
   "metadata": {},
   "outputs": [
    {
     "data": {
      "text/plain": [
       "'nani'"
      ]
     },
     "execution_count": 21,
     "metadata": {},
     "output_type": "execute_result"
    }
   ],
   "source": [
    "a=\"nani\"\n",
    "a[:]"
   ]
  },
  {
   "cell_type": "code",
   "execution_count": 22,
   "id": "390a86f4",
   "metadata": {},
   "outputs": [
    {
     "data": {
      "text/plain": [
       "'ani'"
      ]
     },
     "execution_count": 22,
     "metadata": {},
     "output_type": "execute_result"
    }
   ],
   "source": [
    "a[1:]"
   ]
  },
  {
   "cell_type": "code",
   "execution_count": 23,
   "id": "982deada",
   "metadata": {},
   "outputs": [
    {
     "data": {
      "text/plain": [
       "'i'"
      ]
     },
     "execution_count": 23,
     "metadata": {},
     "output_type": "execute_result"
    }
   ],
   "source": [
    "a[-1:]"
   ]
  },
  {
   "cell_type": "code",
   "execution_count": 24,
   "id": "3a7f502c",
   "metadata": {},
   "outputs": [
    {
     "data": {
      "text/plain": [
       "'a'"
      ]
     },
     "execution_count": 24,
     "metadata": {},
     "output_type": "execute_result"
    }
   ],
   "source": [
    "a[1]"
   ]
  },
  {
   "cell_type": "code",
   "execution_count": 25,
   "id": "3dbc276a",
   "metadata": {},
   "outputs": [
    {
     "data": {
      "text/plain": [
       "'i'"
      ]
     },
     "execution_count": 25,
     "metadata": {},
     "output_type": "execute_result"
    }
   ],
   "source": [
    "a[-1::]"
   ]
  },
  {
   "cell_type": "code",
   "execution_count": 26,
   "id": "4c7d18cf",
   "metadata": {},
   "outputs": [
    {
     "data": {
      "text/plain": [
       "''"
      ]
     },
     "execution_count": 26,
     "metadata": {},
     "output_type": "execute_result"
    }
   ],
   "source": [
    "a[-1:0]"
   ]
  },
  {
   "cell_type": "code",
   "execution_count": 31,
   "id": "934c458d",
   "metadata": {},
   "outputs": [
    {
     "data": {
      "text/plain": [
       "'inan'"
      ]
     },
     "execution_count": 31,
     "metadata": {},
     "output_type": "execute_result"
    }
   ],
   "source": [
    "a[-1::-1]"
   ]
  },
  {
   "cell_type": "code",
   "execution_count": 37,
   "id": "eb5a78be",
   "metadata": {},
   "outputs": [],
   "source": [
    "k=[]"
   ]
  },
  {
   "cell_type": "code",
   "execution_count": 39,
   "id": "2ea52e78",
   "metadata": {},
   "outputs": [],
   "source": [
    "for i in range(1,3):\n",
    "    k.append(i)"
   ]
  },
  {
   "cell_type": "code",
   "execution_count": 40,
   "id": "e41fe45a",
   "metadata": {},
   "outputs": [
    {
     "data": {
      "text/plain": [
       "[1, 2]"
      ]
     },
     "execution_count": 40,
     "metadata": {},
     "output_type": "execute_result"
    }
   ],
   "source": [
    "k"
   ]
  },
  {
   "cell_type": "code",
   "execution_count": 43,
   "id": "a5758a5a",
   "metadata": {},
   "outputs": [
    {
     "data": {
      "text/plain": [
       "'i'"
      ]
     },
     "execution_count": 43,
     "metadata": {},
     "output_type": "execute_result"
    }
   ],
   "source": [
    "'tinker'[1:2]\n"
   ]
  },
  {
   "cell_type": "code",
   "execution_count": 62,
   "id": "170f42b2",
   "metadata": {},
   "outputs": [],
   "source": [
    "x=\"Narayanareddy Nani\""
   ]
  },
  {
   "cell_type": "code",
   "execution_count": 67,
   "id": "67aa8ae3",
   "metadata": {},
   "outputs": [],
   "source": [
    "y=x.split(\"na\")"
   ]
  },
  {
   "cell_type": "code",
   "execution_count": 68,
   "id": "77894ae7",
   "metadata": {},
   "outputs": [
    {
     "name": "stdout",
     "output_type": "stream",
     "text": [
      "['Naraya', 'reddy Nani']\n"
     ]
    }
   ],
   "source": [
    "print(y)"
   ]
  },
  {
   "cell_type": "code",
   "execution_count": 70,
   "id": "be0f87fd",
   "metadata": {},
   "outputs": [],
   "source": [
    "a,b=10,20"
   ]
  },
  {
   "cell_type": "code",
   "execution_count": 72,
   "id": "ac350e07",
   "metadata": {},
   "outputs": [
    {
     "name": "stdout",
     "output_type": "stream",
     "text": [
      "a=10,b=20\n"
     ]
    }
   ],
   "source": [
    "print(f\"a={a},b={b}\")"
   ]
  },
  {
   "cell_type": "code",
   "execution_count": 73,
   "id": "c5008c61",
   "metadata": {},
   "outputs": [],
   "source": [
    "result =1.22222"
   ]
  },
  {
   "cell_type": "code",
   "execution_count": 75,
   "id": "5c418ece",
   "metadata": {},
   "outputs": [
    {
     "name": "stdout",
     "output_type": "stream",
     "text": [
      "the value 1.222\n"
     ]
    }
   ],
   "source": [
    "print(f\"the value {result:1.3f}\")"
   ]
  },
  {
   "cell_type": "code",
   "execution_count": 76,
   "id": "b3a0a409",
   "metadata": {},
   "outputs": [],
   "source": [
    "k=[1,2,3,\"nani\"]"
   ]
  },
  {
   "cell_type": "code",
   "execution_count": 77,
   "id": "cd3cf8ac",
   "metadata": {},
   "outputs": [],
   "source": [
    "k.reverse()"
   ]
  },
  {
   "cell_type": "code",
   "execution_count": 78,
   "id": "b2435872",
   "metadata": {},
   "outputs": [
    {
     "data": {
      "text/plain": [
       "['nani', 3, 2, 1]"
      ]
     },
     "execution_count": 78,
     "metadata": {},
     "output_type": "execute_result"
    }
   ],
   "source": [
    "k"
   ]
  },
  {
   "cell_type": "code",
   "execution_count": 80,
   "id": "20645c64",
   "metadata": {},
   "outputs": [
    {
     "data": {
      "text/plain": [
       "1"
      ]
     },
     "execution_count": 80,
     "metadata": {},
     "output_type": "execute_result"
    }
   ],
   "source": [
    "k.pop()"
   ]
  },
  {
   "cell_type": "code",
   "execution_count": 81,
   "id": "691489e6",
   "metadata": {},
   "outputs": [
    {
     "data": {
      "text/plain": [
       "['nani', 3, 2]"
      ]
     },
     "execution_count": 81,
     "metadata": {},
     "output_type": "execute_result"
    }
   ],
   "source": [
    "k"
   ]
  },
  {
   "cell_type": "code",
   "execution_count": 82,
   "id": "f144b0a2",
   "metadata": {},
   "outputs": [
    {
     "data": {
      "text/plain": [
       "'nani'"
      ]
     },
     "execution_count": 82,
     "metadata": {},
     "output_type": "execute_result"
    }
   ],
   "source": [
    "k.pop(0)"
   ]
  },
  {
   "cell_type": "code",
   "execution_count": 83,
   "id": "f672cd8d",
   "metadata": {},
   "outputs": [
    {
     "data": {
      "text/plain": [
       "[3, 2]"
      ]
     },
     "execution_count": 83,
     "metadata": {},
     "output_type": "execute_result"
    }
   ],
   "source": [
    "k"
   ]
  },
  {
   "cell_type": "code",
   "execution_count": 84,
   "id": "1ce41e3c",
   "metadata": {},
   "outputs": [],
   "source": [
    "k.append(1)"
   ]
  },
  {
   "cell_type": "code",
   "execution_count": 85,
   "id": "f51cb5b0",
   "metadata": {},
   "outputs": [
    {
     "data": {
      "text/plain": [
       "[3, 2, 1]"
      ]
     },
     "execution_count": 85,
     "metadata": {},
     "output_type": "execute_result"
    }
   ],
   "source": [
    "k"
   ]
  },
  {
   "cell_type": "code",
   "execution_count": 86,
   "id": "36057810",
   "metadata": {},
   "outputs": [],
   "source": [
    "k.sort()"
   ]
  },
  {
   "cell_type": "code",
   "execution_count": 102,
   "id": "601502fd",
   "metadata": {},
   "outputs": [],
   "source": [
    "k= [1,2,5,4]"
   ]
  },
  {
   "cell_type": "code",
   "execution_count": 103,
   "id": "79246a89",
   "metadata": {},
   "outputs": [
    {
     "name": "stdout",
     "output_type": "stream",
     "text": [
      "5\n"
     ]
    }
   ],
   "source": [
    " # Example list\n",
    "\n",
    "max_value = float('-inf')  # Initialize max_value to negative infinity\n",
    "\n",
    "for i in k:\n",
    "    if max_value < i:\n",
    "        max_value = i\n",
    "\n",
    "print(max_value)\n"
   ]
  },
  {
   "cell_type": "code",
   "execution_count": 104,
   "id": "b349f33b",
   "metadata": {},
   "outputs": [
    {
     "data": {
      "text/plain": [
       "4"
      ]
     },
     "execution_count": 104,
     "metadata": {},
     "output_type": "execute_result"
    }
   ],
   "source": [
    "len(k)"
   ]
  },
  {
   "cell_type": "code",
   "execution_count": 107,
   "id": "c6bceed5",
   "metadata": {},
   "outputs": [],
   "source": [
    "demo_dict={1:\"one\",2:\"two\"}"
   ]
  },
  {
   "cell_type": "code",
   "execution_count": 109,
   "id": "72813dc1",
   "metadata": {},
   "outputs": [
    {
     "data": {
      "text/plain": [
       "'one'"
      ]
     },
     "execution_count": 109,
     "metadata": {},
     "output_type": "execute_result"
    }
   ],
   "source": [
    "demo_dict[1]"
   ]
  },
  {
   "cell_type": "code",
   "execution_count": 110,
   "id": "cb17f86f",
   "metadata": {},
   "outputs": [],
   "source": [
    "k={}\n"
   ]
  },
  {
   "cell_type": "code",
   "execution_count": 111,
   "id": "ff9febaf",
   "metadata": {},
   "outputs": [
    {
     "data": {
      "text/plain": [
       "{}"
      ]
     },
     "execution_count": 111,
     "metadata": {},
     "output_type": "execute_result"
    }
   ],
   "source": [
    "k"
   ]
  },
  {
   "cell_type": "code",
   "execution_count": 112,
   "id": "b72d9974",
   "metadata": {},
   "outputs": [],
   "source": [
    "a=()"
   ]
  },
  {
   "cell_type": "code",
   "execution_count": 113,
   "id": "d65d7117",
   "metadata": {},
   "outputs": [
    {
     "data": {
      "text/plain": [
       "()"
      ]
     },
     "execution_count": 113,
     "metadata": {},
     "output_type": "execute_result"
    }
   ],
   "source": [
    "a"
   ]
  },
  {
   "cell_type": "code",
   "execution_count": 114,
   "id": "641bd0a8",
   "metadata": {},
   "outputs": [],
   "source": [
    "j=[]"
   ]
  },
  {
   "cell_type": "code",
   "execution_count": 115,
   "id": "637edef9",
   "metadata": {},
   "outputs": [
    {
     "data": {
      "text/plain": [
       "[]"
      ]
     },
     "execution_count": 115,
     "metadata": {},
     "output_type": "execute_result"
    }
   ],
   "source": [
    "j"
   ]
  },
  {
   "cell_type": "code",
   "execution_count": 116,
   "id": "081c2ffa",
   "metadata": {},
   "outputs": [
    {
     "data": {
      "text/plain": [
       "tuple"
      ]
     },
     "execution_count": 116,
     "metadata": {},
     "output_type": "execute_result"
    }
   ],
   "source": [
    "type(a)"
   ]
  },
  {
   "cell_type": "code",
   "execution_count": 117,
   "id": "c0b39df3",
   "metadata": {},
   "outputs": [],
   "source": [
    "a=(1,2,3,4)"
   ]
  },
  {
   "cell_type": "code",
   "execution_count": 118,
   "id": "21a81d7b",
   "metadata": {},
   "outputs": [
    {
     "data": {
      "text/plain": [
       "2"
      ]
     },
     "execution_count": 118,
     "metadata": {},
     "output_type": "execute_result"
    }
   ],
   "source": [
    "a[1]"
   ]
  },
  {
   "cell_type": "code",
   "execution_count": 119,
   "id": "bf747c5d",
   "metadata": {},
   "outputs": [],
   "source": [
    "r=list(a)"
   ]
  },
  {
   "cell_type": "code",
   "execution_count": 120,
   "id": "de3ce463",
   "metadata": {},
   "outputs": [
    {
     "data": {
      "text/plain": [
       "[1, 2, 3, 4]"
      ]
     },
     "execution_count": 120,
     "metadata": {},
     "output_type": "execute_result"
    }
   ],
   "source": [
    "r"
   ]
  },
  {
   "cell_type": "code",
   "execution_count": 121,
   "id": "144c58e1",
   "metadata": {},
   "outputs": [],
   "source": [
    "r.append(6)"
   ]
  },
  {
   "cell_type": "code",
   "execution_count": 122,
   "id": "9f1629c1",
   "metadata": {},
   "outputs": [
    {
     "data": {
      "text/plain": [
       "[1, 2, 3, 4, 6]"
      ]
     },
     "execution_count": 122,
     "metadata": {},
     "output_type": "execute_result"
    }
   ],
   "source": [
    "r"
   ]
  },
  {
   "cell_type": "code",
   "execution_count": 123,
   "id": "d85b052b",
   "metadata": {},
   "outputs": [],
   "source": [
    "a=tuple(r)"
   ]
  },
  {
   "cell_type": "code",
   "execution_count": 124,
   "id": "c7e3cd9d",
   "metadata": {},
   "outputs": [
    {
     "data": {
      "text/plain": [
       "(1, 2, 3, 4, 6)"
      ]
     },
     "execution_count": 124,
     "metadata": {},
     "output_type": "execute_result"
    }
   ],
   "source": [
    "a"
   ]
  },
  {
   "cell_type": "code",
   "execution_count": 125,
   "id": "430521c5",
   "metadata": {},
   "outputs": [
    {
     "ename": "AttributeError",
     "evalue": "'tuple' object has no attribute 'reverse'",
     "output_type": "error",
     "traceback": [
      "\u001b[0;31m---------------------------------------------------------------------------\u001b[0m",
      "\u001b[0;31mAttributeError\u001b[0m                            Traceback (most recent call last)",
      "Cell \u001b[0;32mIn[125], line 1\u001b[0m\n\u001b[0;32m----> 1\u001b[0m \u001b[43ma\u001b[49m\u001b[38;5;241;43m.\u001b[39;49m\u001b[43mreverse\u001b[49m()\n",
      "\u001b[0;31mAttributeError\u001b[0m: 'tuple' object has no attribute 'reverse'"
     ]
    }
   ],
   "source": [
    "a.reverse()"
   ]
  },
  {
   "cell_type": "code",
   "execution_count": 126,
   "id": "74bd8c5c",
   "metadata": {},
   "outputs": [],
   "source": [
    "r.reverse()"
   ]
  },
  {
   "cell_type": "code",
   "execution_count": 127,
   "id": "00026d8f",
   "metadata": {},
   "outputs": [
    {
     "data": {
      "text/plain": [
       "[6, 4, 3, 2, 1]"
      ]
     },
     "execution_count": 127,
     "metadata": {},
     "output_type": "execute_result"
    }
   ],
   "source": [
    "r"
   ]
  },
  {
   "cell_type": "code",
   "execution_count": 128,
   "id": "b6e7fc24",
   "metadata": {},
   "outputs": [],
   "source": [
    "r.sort()"
   ]
  },
  {
   "cell_type": "code",
   "execution_count": 129,
   "id": "cd85f644",
   "metadata": {},
   "outputs": [
    {
     "data": {
      "text/plain": [
       "[1, 2, 3, 4, 6]"
      ]
     },
     "execution_count": 129,
     "metadata": {},
     "output_type": "execute_result"
    }
   ],
   "source": [
    "r"
   ]
  },
  {
   "cell_type": "code",
   "execution_count": 134,
   "id": "974daed7",
   "metadata": {},
   "outputs": [],
   "source": [
    "r.insert(1,6)"
   ]
  },
  {
   "cell_type": "code",
   "execution_count": 135,
   "id": "0ab614b2",
   "metadata": {},
   "outputs": [
    {
     "data": {
      "text/plain": [
       "[1, 6, 2, 3, 4, 6, 1]"
      ]
     },
     "execution_count": 135,
     "metadata": {},
     "output_type": "execute_result"
    }
   ],
   "source": [
    "r"
   ]
  },
  {
   "cell_type": "code",
   "execution_count": 136,
   "id": "f879c7ea",
   "metadata": {},
   "outputs": [],
   "source": [
    "s=set(r)"
   ]
  },
  {
   "cell_type": "code",
   "execution_count": 137,
   "id": "05bef1eb",
   "metadata": {},
   "outputs": [
    {
     "data": {
      "text/plain": [
       "{1, 2, 3, 4, 6}"
      ]
     },
     "execution_count": 137,
     "metadata": {},
     "output_type": "execute_result"
    }
   ],
   "source": [
    "s"
   ]
  },
  {
   "cell_type": "code",
   "execution_count": 146,
   "id": "a158f874",
   "metadata": {},
   "outputs": [
    {
     "data": {
      "text/plain": [
       "0"
      ]
     },
     "execution_count": 146,
     "metadata": {},
     "output_type": "execute_result"
    }
   ],
   "source": [
    "1 and 0"
   ]
  },
  {
   "cell_type": "code",
   "execution_count": 145,
   "id": "8deeebad",
   "metadata": {},
   "outputs": [
    {
     "data": {
      "text/plain": [
       "2"
      ]
     },
     "execution_count": 145,
     "metadata": {},
     "output_type": "execute_result"
    }
   ],
   "source": [
    "0 or 2"
   ]
  },
  {
   "cell_type": "code",
   "execution_count": 147,
   "id": "f32e11f2",
   "metadata": {},
   "outputs": [
    {
     "name": "stdout",
     "output_type": "stream",
     "text": [
      " admin-policy.json         log1.txt               \u001b[0m\u001b[01;34mPublic\u001b[0m/\r\n",
      " \u001b[01;34manaconda3\u001b[0m/                logfile.log            \u001b[01;34msnap\u001b[0m/\r\n",
      " demo.tf                   main.tf                \u001b[01;34mTemplates\u001b[0m/\r\n",
      " \u001b[01;32mdemo.txt\u001b[0m*                 \u001b[01;34mminiconda3\u001b[0m/            terraform.tfstate\r\n",
      " \u001b[01;34mDesktop\u001b[0m/                  minikube-linux-amd64   terraform.tfstate.backup\r\n",
      " docker-compose-prod.yml   \u001b[01;34mMusic\u001b[0m/                 terraform.zip\r\n",
      " \u001b[01;34mDocuments\u001b[0m/                \u001b[01;34mmyagent\u001b[0m/               Untitled.ipynb\r\n",
      " \u001b[01;34mDownloads\u001b[0m/                mycert.crt             variable.tf\r\n",
      " \u001b[01;34meclipse-workspace\u001b[0m/        mycert.key             \u001b[01;34mVideos\u001b[0m/\r\n",
      " kubeconfig.yaml           nani.txt              \u001b[01;34m'VirtualBox VMs'\u001b[0m/\r\n",
      " kubectl                   \u001b[01;34mPictures\u001b[0m/\r\n"
     ]
    }
   ],
   "source": [
    "ls"
   ]
  },
  {
   "cell_type": "code",
   "execution_count": 148,
   "id": "093b770a",
   "metadata": {},
   "outputs": [
    {
     "name": "stdout",
     "output_type": "stream",
     "text": [
      "hellow world\r\n",
      "hellow world\r\n"
     ]
    }
   ],
   "source": [
    "cat log1.txt\n"
   ]
  },
  {
   "cell_type": "code",
   "execution_count": 149,
   "id": "4acbfd6b",
   "metadata": {},
   "outputs": [
    {
     "name": "stdout",
     "output_type": "stream",
     "text": [
      "Writing myfile.txt\n",
      "CPU times: user 2.01 ms, sys: 1.27 ms, total: 3.29 ms\n",
      "Wall time: 2.56 ms\n"
     ]
    }
   ],
   "source": [
    "%%time\n",
    "%%writefile myfile.txt\n",
    "Hello this is a text file\n",
    "this is the second line\n",
    "this is the third line"
   ]
  },
  {
   "cell_type": "code",
   "execution_count": 150,
   "id": "9511deff",
   "metadata": {},
   "outputs": [
    {
     "name": "stdout",
     "output_type": "stream",
     "text": [
      "Hello this is a text file\r\n",
      "this is the second line\r\n",
      "this is the third line\r\n"
     ]
    }
   ],
   "source": [
    "cat myfile.txt"
   ]
  },
  {
   "cell_type": "code",
   "execution_count": 151,
   "id": "c7a0959a",
   "metadata": {},
   "outputs": [],
   "source": [
    "myfile= open('myfile.txt')"
   ]
  },
  {
   "cell_type": "code",
   "execution_count": 152,
   "id": "3d405643",
   "metadata": {},
   "outputs": [],
   "source": [
    "myfile.close()"
   ]
  },
  {
   "cell_type": "code",
   "execution_count": 153,
   "id": "416fae5f",
   "metadata": {},
   "outputs": [
    {
     "ename": "FileNotFoundError",
     "evalue": "[Errno 2] No such file or directory: 'myFile.txt'",
     "output_type": "error",
     "traceback": [
      "\u001b[0;31m---------------------------------------------------------------------------\u001b[0m",
      "\u001b[0;31mFileNotFoundError\u001b[0m                         Traceback (most recent call last)",
      "Cell \u001b[0;32mIn[153], line 1\u001b[0m\n\u001b[0;32m----> 1\u001b[0m myfile\u001b[38;5;241m=\u001b[39m \u001b[38;5;28;43mopen\u001b[39;49m\u001b[43m(\u001b[49m\u001b[38;5;124;43m'\u001b[39;49m\u001b[38;5;124;43mmyFile.txt\u001b[39;49m\u001b[38;5;124;43m'\u001b[39;49m\u001b[43m)\u001b[49m\n",
      "File \u001b[0;32m/usr/lib/python3/dist-packages/IPython/core/interactiveshell.py:310\u001b[0m, in \u001b[0;36m_modified_open\u001b[0;34m(file, *args, **kwargs)\u001b[0m\n\u001b[1;32m    303\u001b[0m \u001b[38;5;28;01mif\u001b[39;00m file \u001b[38;5;129;01min\u001b[39;00m {\u001b[38;5;241m0\u001b[39m, \u001b[38;5;241m1\u001b[39m, \u001b[38;5;241m2\u001b[39m}:\n\u001b[1;32m    304\u001b[0m     \u001b[38;5;28;01mraise\u001b[39;00m \u001b[38;5;167;01mValueError\u001b[39;00m(\n\u001b[1;32m    305\u001b[0m         \u001b[38;5;124mf\u001b[39m\u001b[38;5;124m\"\u001b[39m\u001b[38;5;124mIPython won\u001b[39m\u001b[38;5;124m'\u001b[39m\u001b[38;5;124mt let you open fd=\u001b[39m\u001b[38;5;132;01m{\u001b[39;00mfile\u001b[38;5;132;01m}\u001b[39;00m\u001b[38;5;124m by default \u001b[39m\u001b[38;5;124m\"\u001b[39m\n\u001b[1;32m    306\u001b[0m         \u001b[38;5;124m\"\u001b[39m\u001b[38;5;124mas it is likely to crash IPython. If you know what you are doing, \u001b[39m\u001b[38;5;124m\"\u001b[39m\n\u001b[1;32m    307\u001b[0m         \u001b[38;5;124m\"\u001b[39m\u001b[38;5;124myou can use builtins\u001b[39m\u001b[38;5;124m'\u001b[39m\u001b[38;5;124m open.\u001b[39m\u001b[38;5;124m\"\u001b[39m\n\u001b[1;32m    308\u001b[0m     )\n\u001b[0;32m--> 310\u001b[0m \u001b[38;5;28;01mreturn\u001b[39;00m \u001b[43mio_open\u001b[49m\u001b[43m(\u001b[49m\u001b[43mfile\u001b[49m\u001b[43m,\u001b[49m\u001b[43m \u001b[49m\u001b[38;5;241;43m*\u001b[39;49m\u001b[43margs\u001b[49m\u001b[43m,\u001b[49m\u001b[43m \u001b[49m\u001b[38;5;241;43m*\u001b[39;49m\u001b[38;5;241;43m*\u001b[39;49m\u001b[43mkwargs\u001b[49m\u001b[43m)\u001b[49m\n",
      "\u001b[0;31mFileNotFoundError\u001b[0m: [Errno 2] No such file or directory: 'myFile.txt'"
     ]
    }
   ],
   "source": [
    "myfile= open('myFile.txt')"
   ]
  },
  {
   "cell_type": "code",
   "execution_count": 154,
   "id": "850945d4",
   "metadata": {},
   "outputs": [
    {
     "data": {
      "text/plain": [
       "'/home/tadi'"
      ]
     },
     "execution_count": 154,
     "metadata": {},
     "output_type": "execute_result"
    }
   ],
   "source": [
    "pwd"
   ]
  },
  {
   "cell_type": "code",
   "execution_count": 156,
   "id": "883153e1",
   "metadata": {},
   "outputs": [
    {
     "name": "stdout",
     "output_type": "stream",
     "text": [
      " admin-policy.json         log1.txt               \u001b[0m\u001b[01;34mPictures\u001b[0m/\r\n",
      " \u001b[01;34manaconda3\u001b[0m/                logfile.log            \u001b[01;34mPublic\u001b[0m/\r\n",
      " demo.tf                   main.tf                \u001b[01;34msnap\u001b[0m/\r\n",
      " \u001b[01;32mdemo.txt\u001b[0m*                 \u001b[01;34mminiconda3\u001b[0m/            \u001b[01;34mTemplates\u001b[0m/\r\n",
      " \u001b[01;34mDesktop\u001b[0m/                  minikube-linux-amd64   terraform.tfstate\r\n",
      " docker-compose-prod.yml   \u001b[01;34mMusic\u001b[0m/                 terraform.tfstate.backup\r\n",
      " \u001b[01;34mDocuments\u001b[0m/                \u001b[01;34mmyagent\u001b[0m/               terraform.zip\r\n",
      " \u001b[01;34mDownloads\u001b[0m/                mycert.crt             Untitled.ipynb\r\n",
      " \u001b[01;34meclipse-workspace\u001b[0m/        mycert.key             variable.tf\r\n",
      " kubeconfig.yaml           myfile.txt             \u001b[01;34mVideos\u001b[0m/\r\n",
      " kubectl                   nani.txt              \u001b[01;34m'VirtualBox VMs'\u001b[0m/\r\n"
     ]
    }
   ],
   "source": [
    "ls\n"
   ]
  },
  {
   "cell_type": "code",
   "execution_count": 157,
   "id": "c90bf0ca",
   "metadata": {},
   "outputs": [],
   "source": [
    "myfile.close()"
   ]
  },
  {
   "cell_type": "code",
   "execution_count": 159,
   "id": "f3fad440",
   "metadata": {},
   "outputs": [],
   "source": [
    "myfile= open('myfile.txt')"
   ]
  },
  {
   "cell_type": "code",
   "execution_count": 160,
   "id": "47420a24",
   "metadata": {},
   "outputs": [
    {
     "data": {
      "text/plain": [
       "'Hello this is a text file\\nthis is the second line\\nthis is the third line\\n'"
      ]
     },
     "execution_count": 160,
     "metadata": {},
     "output_type": "execute_result"
    }
   ],
   "source": [
    "myfile.read()"
   ]
  },
  {
   "cell_type": "code",
   "execution_count": 163,
   "id": "1e253702",
   "metadata": {},
   "outputs": [
    {
     "data": {
      "text/plain": [
       "'Hello this is a text file\\nthis is the second line\\nthis is the third line\\n'"
      ]
     },
     "execution_count": 163,
     "metadata": {},
     "output_type": "execute_result"
    }
   ],
   "source": [
    "myfile.read()"
   ]
  },
  {
   "cell_type": "code",
   "execution_count": 164,
   "id": "422c1f84",
   "metadata": {},
   "outputs": [
    {
     "data": {
      "text/plain": [
       "0"
      ]
     },
     "execution_count": 164,
     "metadata": {},
     "output_type": "execute_result"
    }
   ],
   "source": [
    "myfile.seek(0)"
   ]
  },
  {
   "cell_type": "code",
   "execution_count": 165,
   "id": "4d6702fa",
   "metadata": {},
   "outputs": [
    {
     "data": {
      "text/plain": [
       "['Hello this is a text file\\n',\n",
       " 'this is the second line\\n',\n",
       " 'this is the third line\\n']"
      ]
     },
     "execution_count": 165,
     "metadata": {},
     "output_type": "execute_result"
    }
   ],
   "source": [
    "myfile.readlines()"
   ]
  },
  {
   "cell_type": "code",
   "execution_count": 166,
   "id": "a4a2a3ae",
   "metadata": {},
   "outputs": [],
   "source": [
    "myfile1=open('myfile.txt')"
   ]
  },
  {
   "cell_type": "code",
   "execution_count": 167,
   "id": "35eec508",
   "metadata": {},
   "outputs": [],
   "source": [
    "myfile1.close()"
   ]
  },
  {
   "cell_type": "code",
   "execution_count": 168,
   "id": "94fb3e28",
   "metadata": {},
   "outputs": [
    {
     "data": {
      "text/plain": [
       "0"
      ]
     },
     "execution_count": 168,
     "metadata": {},
     "output_type": "execute_result"
    }
   ],
   "source": [
    "myfile.seek(0)"
   ]
  },
  {
   "cell_type": "code",
   "execution_count": 169,
   "id": "08a71aac",
   "metadata": {},
   "outputs": [],
   "source": [
    "myfile.close()"
   ]
  },
  {
   "cell_type": "code",
   "execution_count": 175,
   "id": "ca47923f",
   "metadata": {},
   "outputs": [],
   "source": [
    "with open('myfile.txt') as myfile:\n",
    "    mycontent = myfile.read()"
   ]
  },
  {
   "cell_type": "code",
   "execution_count": 177,
   "id": "258bbb24",
   "metadata": {},
   "outputs": [
    {
     "data": {
      "text/plain": [
       "'Hello this is a text file\\nthis is the second line\\nthis is the third line\\n'"
      ]
     },
     "execution_count": 177,
     "metadata": {},
     "output_type": "execute_result"
    }
   ],
   "source": [
    "mycontent"
   ]
  },
  {
   "cell_type": "code",
   "execution_count": 181,
   "id": "b721c8b3",
   "metadata": {},
   "outputs": [
    {
     "data": {
      "text/markdown": [
       "#http://codingbat.com/python\n",
       "#https://projecteuler.net/archives\n",
       "#http://www.codeabbey.com/index/task/list_list\n",
       "#https://www.reddit.com/r/dailyprogrammer\n",
       "#http://www.pythonchallenge.com\n"
      ],
      "text/plain": [
       "<IPython.core.display.Markdown object>"
      ]
     },
     "metadata": {},
     "output_type": "display_data"
    }
   ],
   "source": [
    "%%markdown\n",
    "#http://codingbat.com/python\n",
    "#https://projecteuler.net/archives\n",
    "#http://www.codeabbey.com/index/task/list_list\n",
    "#https://www.reddit.com/r/dailyprogrammer\n",
    "#http://www.pythonchallenge.com"
   ]
  },
  {
   "cell_type": "code",
   "execution_count": 1,
   "id": "bcbfd1bf",
   "metadata": {},
   "outputs": [],
   "source": [
    "mylist=[1,2,3,4,5,6,7,8]"
   ]
  },
  {
   "cell_type": "code",
   "execution_count": 192,
   "id": "98afb010",
   "metadata": {},
   "outputs": [
    {
     "name": "stdout",
     "output_type": "stream",
     "text": [
      "20\n"
     ]
    }
   ],
   "source": [
    "result =0\n",
    "for num in mylist:\n",
    "    if num%2 == 0:\n",
    "        result +=num\n",
    "print(result)    "
   ]
  },
  {
   "cell_type": "code",
   "execution_count": 196,
   "id": "2d5f2bc6",
   "metadata": {},
   "outputs": [
    {
     "data": {
      "text/plain": [
       "1"
      ]
     },
     "execution_count": 196,
     "metadata": {},
     "output_type": "execute_result"
    }
   ],
   "source": [
    "min(mylist)"
   ]
  },
  {
   "cell_type": "code",
   "execution_count": 197,
   "id": "eeaa218c",
   "metadata": {},
   "outputs": [
    {
     "ename": "TypeError",
     "evalue": "'float' object is not callable",
     "output_type": "error",
     "traceback": [
      "\u001b[0;31m---------------------------------------------------------------------------\u001b[0m",
      "\u001b[0;31mTypeError\u001b[0m                                 Traceback (most recent call last)",
      "Cell \u001b[0;32mIn[197], line 1\u001b[0m\n\u001b[0;32m----> 1\u001b[0m \u001b[38;5;28;43mmax\u001b[39;49m\u001b[43m(\u001b[49m\u001b[43mmylist\u001b[49m\u001b[43m)\u001b[49m\n",
      "\u001b[0;31mTypeError\u001b[0m: 'float' object is not callable"
     ]
    }
   ],
   "source": [
    "max(mylist)"
   ]
  },
  {
   "cell_type": "code",
   "execution_count": 198,
   "id": "94b97cd3",
   "metadata": {},
   "outputs": [
    {
     "data": {
      "text/plain": [
       "[1, 2, 3, 4, 5, 6, 7, 8]"
      ]
     },
     "execution_count": 198,
     "metadata": {},
     "output_type": "execute_result"
    }
   ],
   "source": [
    "mylist"
   ]
  },
  {
   "cell_type": "code",
   "execution_count": 2,
   "id": "cfcbab8e",
   "metadata": {},
   "outputs": [
    {
     "data": {
      "text/plain": [
       "8"
      ]
     },
     "execution_count": 2,
     "metadata": {},
     "output_type": "execute_result"
    }
   ],
   "source": [
    "max(mylist)"
   ]
  },
  {
   "cell_type": "code",
   "execution_count": 9,
   "id": "0e56f10d",
   "metadata": {},
   "outputs": [
    {
     "name": "stdout",
     "output_type": "stream",
     "text": [
      "enter the input23\n"
     ]
    },
    {
     "data": {
      "text/plain": [
       "str"
      ]
     },
     "execution_count": 9,
     "metadata": {},
     "output_type": "execute_result"
    }
   ],
   "source": [
    "myinput=(input(\"enter the input\"))\n",
    "type(myinput)"
   ]
  },
  {
   "cell_type": "code",
   "execution_count": 4,
   "id": "aedb07ee",
   "metadata": {},
   "outputs": [
    {
     "data": {
      "text/plain": [
       "23"
      ]
     },
     "execution_count": 4,
     "metadata": {},
     "output_type": "execute_result"
    }
   ],
   "source": [
    "myinput"
   ]
  },
  {
   "cell_type": "code",
   "execution_count": 5,
   "id": "61aeefc5",
   "metadata": {},
   "outputs": [
    {
     "data": {
      "text/plain": [
       "int"
      ]
     },
     "execution_count": 5,
     "metadata": {},
     "output_type": "execute_result"
    }
   ],
   "source": [
    "type(myinput)"
   ]
  },
  {
   "cell_type": "code",
   "execution_count": 21,
   "id": "567844bd",
   "metadata": {},
   "outputs": [],
   "source": [
    "st = 'print only the words that starts with s in this sentence Sentence'"
   ]
  },
  {
   "cell_type": "code",
   "execution_count": 22,
   "id": "1ea49b17",
   "metadata": {},
   "outputs": [],
   "source": [
    "mylist_st=list(st.split(\" \"))"
   ]
  },
  {
   "cell_type": "code",
   "execution_count": 23,
   "id": "46a471ea",
   "metadata": {},
   "outputs": [
    {
     "data": {
      "text/plain": [
       "['print',\n",
       " 'only',\n",
       " 'the',\n",
       " 'words',\n",
       " 'that',\n",
       " 'starts',\n",
       " 'with',\n",
       " 's',\n",
       " 'in',\n",
       " 'this',\n",
       " 'sentence',\n",
       " 'Sentence']"
      ]
     },
     "execution_count": 23,
     "metadata": {},
     "output_type": "execute_result"
    }
   ],
   "source": [
    "mylist_st"
   ]
  },
  {
   "cell_type": "code",
   "execution_count": 26,
   "id": "c8d103c3",
   "metadata": {},
   "outputs": [
    {
     "name": "stdout",
     "output_type": "stream",
     "text": [
      "starts\n",
      "s\n",
      "sentence\n",
      "Sentence\n"
     ]
    }
   ],
   "source": [
    "for word in mylist_st:\n",
    "    if word[0].upper() == 'S':\n",
    "        print(word)"
   ]
  },
  {
   "cell_type": "code",
   "execution_count": 27,
   "id": "392d35ef",
   "metadata": {},
   "outputs": [
    {
     "name": "stdout",
     "output_type": "stream",
     "text": [
      "0\n",
      "2\n",
      "4\n",
      "6\n",
      "8\n",
      "10\n"
     ]
    }
   ],
   "source": [
    "for i in range(0,11):\n",
    "    if(i%2 == 0):\n",
    "        print(i)"
   ]
  },
  {
   "cell_type": "code",
   "execution_count": 28,
   "id": "3aea5ff1",
   "metadata": {},
   "outputs": [
    {
     "name": "stdout",
     "output_type": "stream",
     "text": [
      "0\n",
      "2\n",
      "4\n",
      "6\n",
      "8\n",
      "10\n"
     ]
    }
   ],
   "source": [
    "for i in range(0,11,2):\n",
    "    print(i)"
   ]
  },
  {
   "cell_type": "code",
   "execution_count": 30,
   "id": "17b5a477",
   "metadata": {},
   "outputs": [
    {
     "data": {
      "text/plain": [
       "[3, 6, 9, 12, 15, 18, 21, 24, 27, 30, 33, 36, 39, 42, 45, 48]"
      ]
     },
     "execution_count": 30,
     "metadata": {},
     "output_type": "execute_result"
    }
   ],
   "source": [
    "[x for x in range(1,51) if x%3 == 0]"
   ]
  },
  {
   "cell_type": "code",
   "execution_count": 31,
   "id": "9753a3e6",
   "metadata": {},
   "outputs": [],
   "source": [
    "st1= 'print every word in this sentence that has an even number of letters'"
   ]
  },
  {
   "cell_type": "code",
   "execution_count": 32,
   "id": "9c8e114d",
   "metadata": {},
   "outputs": [],
   "source": [
    "even_list= st1.split(\" \")"
   ]
  },
  {
   "cell_type": "code",
   "execution_count": 33,
   "id": "782fbeba",
   "metadata": {},
   "outputs": [
    {
     "name": "stdout",
     "output_type": "stream",
     "text": [
      "word\n",
      "in\n",
      "this\n",
      "sentence\n",
      "that\n",
      "an\n",
      "even\n",
      "number\n",
      "of\n"
     ]
    }
   ],
   "source": [
    "for word in even_list:\n",
    "    if len(word)%2 == 0:\n",
    "        print(word)"
   ]
  },
  {
   "cell_type": "code",
   "execution_count": 35,
   "id": "a195a3d4",
   "metadata": {},
   "outputs": [
    {
     "name": "stdout",
     "output_type": "stream",
     "text": [
      "1\n",
      "2\n",
      "Fizz\n",
      "4\n",
      "Buzz\n",
      "Fizz\n",
      "7\n",
      "8\n",
      "Fizz\n",
      "Buzz\n",
      "11\n",
      "Fizz\n",
      "13\n",
      "14\n",
      "FizzBuzz\n",
      "16\n",
      "17\n",
      "Fizz\n",
      "19\n",
      "Buzz\n",
      "Fizz\n",
      "22\n",
      "23\n",
      "Fizz\n",
      "Buzz\n",
      "26\n",
      "Fizz\n",
      "28\n",
      "29\n",
      "FizzBuzz\n",
      "31\n",
      "32\n",
      "Fizz\n",
      "34\n",
      "Buzz\n",
      "Fizz\n",
      "37\n",
      "38\n",
      "Fizz\n",
      "Buzz\n",
      "41\n",
      "Fizz\n",
      "43\n",
      "44\n",
      "FizzBuzz\n",
      "46\n",
      "47\n",
      "Fizz\n",
      "49\n",
      "Buzz\n",
      "Fizz\n",
      "52\n",
      "53\n",
      "Fizz\n",
      "Buzz\n",
      "56\n",
      "Fizz\n",
      "58\n",
      "59\n",
      "FizzBuzz\n",
      "61\n",
      "62\n",
      "Fizz\n",
      "64\n",
      "Buzz\n",
      "Fizz\n",
      "67\n",
      "68\n",
      "Fizz\n",
      "Buzz\n",
      "71\n",
      "Fizz\n",
      "73\n",
      "74\n",
      "FizzBuzz\n",
      "76\n",
      "77\n",
      "Fizz\n",
      "79\n",
      "Buzz\n",
      "Fizz\n",
      "82\n",
      "83\n",
      "Fizz\n",
      "Buzz\n",
      "86\n",
      "Fizz\n",
      "88\n",
      "89\n",
      "FizzBuzz\n",
      "91\n",
      "92\n",
      "Fizz\n",
      "94\n",
      "Buzz\n",
      "Fizz\n",
      "97\n",
      "98\n",
      "Fizz\n",
      "Buzz\n"
     ]
    }
   ],
   "source": [
    "for i in range(1,101):\n",
    "    if i%3 == 0 and i%5 == 0:\n",
    "        print(\"FizzBuzz\")\n",
    "    elif i%3 ==0 and i%5 !=0:\n",
    "        print(\"Fizz\")\n",
    "    elif i%3 !=0 and i%5 == 0:\n",
    "        print(\"Buzz\")\n",
    "    else:\n",
    "        print(i)\n",
    "        \n",
    "    "
   ]
  },
  {
   "cell_type": "code",
   "execution_count": 36,
   "id": "8eb052fe",
   "metadata": {},
   "outputs": [],
   "source": [
    "st2='Create a list of the first letters of every word in this string'"
   ]
  },
  {
   "cell_type": "code",
   "execution_count": 37,
   "id": "818b3a03",
   "metadata": {},
   "outputs": [],
   "source": [
    "mylist1=[x[0] for x in st2.split(\" \")]"
   ]
  },
  {
   "cell_type": "code",
   "execution_count": 38,
   "id": "8736ccc5",
   "metadata": {},
   "outputs": [
    {
     "data": {
      "text/plain": [
       "['C', 'a', 'l', 'o', 't', 'f', 'l', 'o', 'e', 'w', 'i', 't', 's']"
      ]
     },
     "execution_count": 38,
     "metadata": {},
     "output_type": "execute_result"
    }
   ],
   "source": [
    "mylist1"
   ]
  },
  {
   "cell_type": "code",
   "execution_count": 40,
   "id": "18b39655",
   "metadata": {},
   "outputs": [
    {
     "name": "stdout",
     "output_type": "stream",
     "text": [
      "Help on built-in function extend:\n",
      "\n",
      "extend(iterable, /) method of builtins.list instance\n",
      "    Extend list by appending elements from the iterable.\n",
      "\n"
     ]
    }
   ],
   "source": [
    "help(mylist1.extend)"
   ]
  },
  {
   "cell_type": "code",
   "execution_count": 41,
   "id": "ca6644bb",
   "metadata": {},
   "outputs": [
    {
     "name": "stdout",
     "output_type": "stream",
     "text": [
      "Help on class zip in module builtins:\n",
      "\n",
      "class zip(object)\n",
      " |  zip(*iterables, strict=False) --> Yield tuples until an input is exhausted.\n",
      " |\n",
      " |     >>> list(zip('abcdefg', range(3), range(4)))\n",
      " |     [('a', 0, 0), ('b', 1, 1), ('c', 2, 2)]\n",
      " |\n",
      " |  The zip object yields n-length tuples, where n is the number of iterables\n",
      " |  passed as positional arguments to zip().  The i-th element in every tuple\n",
      " |  comes from the i-th iterable argument to zip().  This continues until the\n",
      " |  shortest argument is exhausted.\n",
      " |\n",
      " |  If strict is true and one of the arguments is exhausted before the others,\n",
      " |  raise a ValueError.\n",
      " |\n",
      " |  Methods defined here:\n",
      " |\n",
      " |  __getattribute__(self, name, /)\n",
      " |      Return getattr(self, name).\n",
      " |\n",
      " |  __iter__(self, /)\n",
      " |      Implement iter(self).\n",
      " |\n",
      " |  __next__(self, /)\n",
      " |      Implement next(self).\n",
      " |\n",
      " |  __reduce__(...)\n",
      " |      Return state information for pickling.\n",
      " |\n",
      " |  __setstate__(...)\n",
      " |      Set state information for unpickling.\n",
      " |\n",
      " |  ----------------------------------------------------------------------\n",
      " |  Static methods defined here:\n",
      " |\n",
      " |  __new__(*args, **kwargs)\n",
      " |      Create and return a new object.  See help(type) for accurate signature.\n",
      "\n"
     ]
    }
   ],
   "source": [
    "help(zip)"
   ]
  },
  {
   "cell_type": "code",
   "execution_count": 42,
   "id": "b7d02e86",
   "metadata": {},
   "outputs": [],
   "source": [
    "def even_numbers(limit):\n",
    "    for n in range(limit):\n",
    "        if n % 2 == 0:\n",
    "            yield n\n"
   ]
  },
  {
   "cell_type": "code",
   "execution_count": 47,
   "id": "9ac49b30",
   "metadata": {},
   "outputs": [
    {
     "name": "stdout",
     "output_type": "stream",
     "text": [
      "0\n",
      "2\n",
      "4\n",
      "6\n",
      "8\n"
     ]
    }
   ],
   "source": [
    "for num in even_numbers(10):\n",
    "    print(num)"
   ]
  },
  {
   "cell_type": "code",
   "execution_count": 49,
   "id": "9fe18058",
   "metadata": {},
   "outputs": [
    {
     "name": "stdout",
     "output_type": "stream",
     "text": [
      "0\n",
      "1\n",
      "1\n"
     ]
    }
   ],
   "source": [
    "def fibonacci_sequence(n):\n",
    "    a, b = 0, 1\n",
    "    for _ in range(n):\n",
    "        yield a\n",
    "        a, b = b, a + b\n",
    "\n",
    "# Use the generator to print the first 10 Fibonacci numbers\n",
    "for number in fibonacci_sequence(3):\n",
    "    print(number)\n"
   ]
  },
  {
   "cell_type": "code",
   "execution_count": 68,
   "id": "53c2f013",
   "metadata": {},
   "outputs": [],
   "source": [
    "def my_fun_even(a):\n",
    "    if a%2 == 0:\n",
    "        print('even')\n",
    "    else:\n",
    "        print(\"odd\")\n"
   ]
  },
  {
   "cell_type": "code",
   "execution_count": 69,
   "id": "6c07f354",
   "metadata": {},
   "outputs": [
    {
     "name": "stdout",
     "output_type": "stream",
     "text": [
      "odd\n"
     ]
    }
   ],
   "source": [
    "my_fun_even(3)"
   ]
  },
  {
   "cell_type": "code",
   "execution_count": 70,
   "id": "770ae47e",
   "metadata": {},
   "outputs": [],
   "source": [
    "from random import shuffle"
   ]
  },
  {
   "cell_type": "code",
   "execution_count": 71,
   "id": "f4c34c94",
   "metadata": {},
   "outputs": [],
   "source": [
    "my_list=[\" \",\" \",'0']\n"
   ]
  },
  {
   "cell_type": "code",
   "execution_count": 72,
   "id": "22f6dcec",
   "metadata": {},
   "outputs": [],
   "source": [
    "def shuffle_fun(list):\n",
    "    shuffle(list)\n",
    "    return list"
   ]
  },
  {
   "cell_type": "code",
   "execution_count": 79,
   "id": "7eb5857c",
   "metadata": {},
   "outputs": [
    {
     "data": {
      "text/plain": [
       "['0', ' ', ' ']"
      ]
     },
     "execution_count": 79,
     "metadata": {},
     "output_type": "execute_result"
    }
   ],
   "source": [
    "shuffle_fun(my_list)"
   ]
  },
  {
   "cell_type": "code",
   "execution_count": 87,
   "id": "fbd64f1e",
   "metadata": {},
   "outputs": [],
   "source": [
    "def guss_fun():\n",
    "    guess=''\n",
    "    while guess not in ['0','1','2']:\n",
    "        guess= input(\"pick a number from : 0,1,or 2 \")\n",
    "    return int(guess)"
   ]
  },
  {
   "cell_type": "code",
   "execution_count": 88,
   "id": "b315e598",
   "metadata": {},
   "outputs": [
    {
     "name": "stdout",
     "output_type": "stream",
     "text": [
      "pick a number from : 0,1,or 2 8\n",
      "pick a number from : 0,1,or 2 6\n",
      "pick a number from : 0,1,or 2 1\n"
     ]
    },
    {
     "data": {
      "text/plain": [
       "1"
      ]
     },
     "execution_count": 88,
     "metadata": {},
     "output_type": "execute_result"
    }
   ],
   "source": [
    "guss_fun()"
   ]
  },
  {
   "cell_type": "code",
   "execution_count": 89,
   "id": "26cb6604",
   "metadata": {},
   "outputs": [],
   "source": [
    "def check_guess(mylist,guess):\n",
    "    if mylist[guess]== '0':\n",
    "        print(\"Correct\")\n",
    "    else:\n",
    "        print(\"wrong\")"
   ]
  },
  {
   "cell_type": "code",
   "execution_count": 91,
   "id": "be484c3f",
   "metadata": {},
   "outputs": [
    {
     "name": "stdout",
     "output_type": "stream",
     "text": [
      "pick a number from : 0,1,or 2 1\n",
      "Correct\n"
     ]
    }
   ],
   "source": [
    "shuffle_list= shuffle_fun(my_list)\n",
    "guess= guss_fun()\n",
    "check_guess(shuffle_list,guess)"
   ]
  },
  {
   "cell_type": "code",
   "execution_count": 92,
   "id": "99ca7870",
   "metadata": {},
   "outputs": [],
   "source": [
    "def lesser_of_two_evens(a,b):\n",
    "    if a%2 ==0 and b%2 == 0:\n",
    "        return min(a,b)\n",
    "    else:\n",
    "        return max(a,b)"
   ]
  },
  {
   "cell_type": "code",
   "execution_count": 94,
   "id": "418b67f2",
   "metadata": {},
   "outputs": [
    {
     "data": {
      "text/plain": [
       "3"
      ]
     },
     "execution_count": 94,
     "metadata": {},
     "output_type": "execute_result"
    }
   ],
   "source": [
    "lesser_of_two_evens(2,3)"
   ]
  },
  {
   "cell_type": "code",
   "execution_count": 95,
   "id": "1117577a",
   "metadata": {},
   "outputs": [],
   "source": [
    "def animal_crakers(text):\n",
    "    list = text.split(\" \")\n",
    "    if list[0][0] == list[1][0]:\n",
    "        return True\n",
    "    else:\n",
    "        return False\n",
    "    "
   ]
  },
  {
   "cell_type": "code",
   "execution_count": 97,
   "id": "0b6ab0a6",
   "metadata": {},
   "outputs": [
    {
     "data": {
      "text/plain": [
       "False"
      ]
     },
     "execution_count": 97,
     "metadata": {},
     "output_type": "execute_result"
    }
   ],
   "source": [
    "animal_crakers('Levelheaded lama')"
   ]
  },
  {
   "cell_type": "code",
   "execution_count": 99,
   "id": "c5052e1e",
   "metadata": {},
   "outputs": [],
   "source": [
    "def make_20(a,b):\n",
    "    return a+b == 20 or a==20 or b==20"
   ]
  },
  {
   "cell_type": "code",
   "execution_count": 103,
   "id": "70794c70",
   "metadata": {},
   "outputs": [
    {
     "data": {
      "text/plain": [
       "True"
      ]
     },
     "execution_count": 103,
     "metadata": {},
     "output_type": "execute_result"
    }
   ],
   "source": [
    "make_20(20,20)"
   ]
  },
  {
   "cell_type": "code",
   "execution_count": 110,
   "id": "5e5aa93f",
   "metadata": {},
   "outputs": [],
   "source": [
    "def old_mac(name):\n",
    "    \n",
    "    list1 = list(name)\n",
    "    for i in range(len(name)):\n",
    "        if i==0 or i==3:\n",
    "            list1[i]= list1[i].upper()\n",
    "    return ''.join(list1)\n",
    "        "
   ]
  },
  {
   "cell_type": "code",
   "execution_count": 111,
   "id": "77bfc6bc",
   "metadata": {},
   "outputs": [
    {
     "data": {
      "text/plain": [
       "'Nar'"
      ]
     },
     "execution_count": 111,
     "metadata": {},
     "output_type": "execute_result"
    }
   ],
   "source": [
    "old_mac('nar')"
   ]
  },
  {
   "cell_type": "code",
   "execution_count": 122,
   "id": "87f2ffce",
   "metadata": {},
   "outputs": [],
   "source": [
    "def master_yodha(text):\n",
    "    char =text.split(\" \")\n",
    "    print(char)\n",
    "    char.reverse()\n",
    "    return ' '.join(char)"
   ]
  },
  {
   "cell_type": "code",
   "execution_count": 123,
   "id": "17098574",
   "metadata": {},
   "outputs": [
    {
     "name": "stdout",
     "output_type": "stream",
     "text": [
      "['we', 'are', 'ready']\n"
     ]
    },
    {
     "data": {
      "text/plain": [
       "'ready are we'"
      ]
     },
     "execution_count": 123,
     "metadata": {},
     "output_type": "execute_result"
    }
   ],
   "source": [
    "master_yodha('we are ready')"
   ]
  },
  {
   "cell_type": "code",
   "execution_count": 124,
   "id": "3f1749af",
   "metadata": {},
   "outputs": [],
   "source": [
    "def almost(n):\n",
    "    list1= range(90,110)\n",
    "    list2 = range(190,210)\n",
    "    return n in list1 or n in list2"
   ]
  },
  {
   "cell_type": "code",
   "execution_count": 125,
   "id": "b6780f88",
   "metadata": {},
   "outputs": [
    {
     "data": {
      "text/plain": [
       "True"
      ]
     },
     "execution_count": 125,
     "metadata": {},
     "output_type": "execute_result"
    }
   ],
   "source": [
    "almost(90)"
   ]
  },
  {
   "cell_type": "code",
   "execution_count": 127,
   "id": "f8e8182f",
   "metadata": {},
   "outputs": [
    {
     "data": {
      "text/plain": [
       "True"
      ]
     },
     "execution_count": 127,
     "metadata": {},
     "output_type": "execute_result"
    }
   ],
   "source": [
    "almost(104)"
   ]
  },
  {
   "cell_type": "code",
   "execution_count": 149,
   "id": "70ac1e62",
   "metadata": {},
   "outputs": [],
   "source": [
    "def has_33(num):\n",
    "    for i in range(len(num)):\n",
    "        if i != len(num)-1 and num[i] == num[i+1]:\n",
    "            return True\n",
    "        \n",
    "    return False"
   ]
  },
  {
   "cell_type": "code",
   "execution_count": 153,
   "id": "dc7f4a93",
   "metadata": {},
   "outputs": [
    {
     "data": {
      "text/plain": [
       "True"
      ]
     },
     "execution_count": 153,
     "metadata": {},
     "output_type": "execute_result"
    }
   ],
   "source": [
    "has_33(['h','e','l','l'])"
   ]
  },
  {
   "cell_type": "code",
   "execution_count": 172,
   "id": "822c24ed",
   "metadata": {},
   "outputs": [],
   "source": [
    "def paper_doll(text):\n",
    "    char=list(text)\n",
    "    for i in range(len(char)):\n",
    "        char[i]=char[i]*3\n",
    "        \n",
    "    return ''.join(char)"
   ]
  },
  {
   "cell_type": "code",
   "execution_count": 173,
   "id": "763b4b21",
   "metadata": {},
   "outputs": [
    {
     "data": {
      "text/plain": [
       "'nnnaaannniii'"
      ]
     },
     "execution_count": 173,
     "metadata": {},
     "output_type": "execute_result"
    }
   ],
   "source": [
    "paper_doll('nani')"
   ]
  },
  {
   "cell_type": "code",
   "execution_count": 161,
   "id": "da01f710",
   "metadata": {},
   "outputs": [
    {
     "data": {
      "text/plain": [
       "'iii'"
      ]
     },
     "execution_count": 161,
     "metadata": {},
     "output_type": "execute_result"
    }
   ],
   "source": [
    "a= \"i\"\n",
    "a*3"
   ]
  },
  {
   "cell_type": "code",
   "execution_count": 174,
   "id": "22e1c5db",
   "metadata": {},
   "outputs": [],
   "source": [
    "def square(a):\n",
    "    return a**2"
   ]
  },
  {
   "cell_type": "code",
   "execution_count": 175,
   "id": "9902d322",
   "metadata": {},
   "outputs": [],
   "source": [
    "my_num=[1,2,3,4,5]"
   ]
  },
  {
   "cell_type": "code",
   "execution_count": 179,
   "id": "19ec9c0a",
   "metadata": {},
   "outputs": [],
   "source": [
    "list2=list(map(square,my_num))"
   ]
  },
  {
   "cell_type": "code",
   "execution_count": 180,
   "id": "9133ffaf",
   "metadata": {},
   "outputs": [
    {
     "data": {
      "text/plain": [
       "[1, 4, 9, 16, 25]"
      ]
     },
     "execution_count": 180,
     "metadata": {},
     "output_type": "execute_result"
    }
   ],
   "source": [
    "list2"
   ]
  },
  {
   "cell_type": "markdown",
   "id": "f2210927",
   "metadata": {},
   "source": []
  },
  {
   "cell_type": "code",
   "execution_count": 186,
   "id": "465dc43d",
   "metadata": {},
   "outputs": [
    {
     "data": {
      "text/plain": [
       "[8, 32]"
      ]
     },
     "execution_count": 186,
     "metadata": {},
     "output_type": "execute_result"
    }
   ],
   "source": [
    "list(map(lambda x: x*2 , filter(lambda x: x%2 ==0,list2)))"
   ]
  },
  {
   "cell_type": "code",
   "execution_count": 184,
   "id": "1f4f4e4d",
   "metadata": {},
   "outputs": [
    {
     "ename": "TypeError",
     "evalue": "'int' object is not iterable",
     "output_type": "error",
     "traceback": [
      "\u001b[0;31m---------------------------------------------------------------------------\u001b[0m",
      "\u001b[0;31mTypeError\u001b[0m                                 Traceback (most recent call last)",
      "Cell \u001b[0;32mIn[184], line 1\u001b[0m\n\u001b[0;32m----> 1\u001b[0m \u001b[38;5;28;43mlist\u001b[39;49m\u001b[43m(\u001b[49m\u001b[38;5;28;43mmap\u001b[39;49m\u001b[43m(\u001b[49m\u001b[43msquare1\u001b[49m\u001b[43m,\u001b[49m\u001b[43mmy_num\u001b[49m\u001b[43m)\u001b[49m\u001b[43m)\u001b[49m\n",
      "Cell \u001b[0;32mIn[183], line 1\u001b[0m, in \u001b[0;36m<lambda>\u001b[0;34m(list2)\u001b[0m\n\u001b[0;32m----> 1\u001b[0m square1 \u001b[38;5;241m=\u001b[39m\u001b[38;5;28;01mlambda\u001b[39;00m list2:\u001b[43m[\u001b[49m\u001b[43mx\u001b[49m\u001b[43m \u001b[49m\u001b[38;5;28;43;01mfor\u001b[39;49;00m\u001b[43m \u001b[49m\u001b[43mx\u001b[49m\u001b[43m \u001b[49m\u001b[38;5;129;43;01min\u001b[39;49;00m\u001b[43m \u001b[49m\u001b[43mlist2\u001b[49m\u001b[43m \u001b[49m\u001b[38;5;28;43;01mif\u001b[39;49;00m\u001b[43m \u001b[49m\u001b[43mx\u001b[49m\u001b[38;5;241;43m%\u001b[39;49m\u001b[38;5;241;43m2\u001b[39;49m\u001b[43m \u001b[49m\u001b[38;5;241;43m==\u001b[39;49m\u001b[38;5;241;43m0\u001b[39;49m\u001b[43m]\u001b[49m\n",
      "\u001b[0;31mTypeError\u001b[0m: 'int' object is not iterable"
     ]
    }
   ],
   "source": []
  },
  {
   "cell_type": "code",
   "execution_count": 193,
   "id": "03feed39",
   "metadata": {},
   "outputs": [
    {
     "name": "stdout",
     "output_type": "stream",
     "text": [
      "Hello, self.name!\n"
     ]
    }
   ],
   "source": [
    "class Greeter:\n",
    "    def __init__(self):\n",
    "        pass\n",
    "        #self.name = name\n",
    "\n",
    "    def greet(self):\n",
    "        return f\"Hello, self.name!\"\n",
    "\n",
    "alice = Greeter()\n",
    "print(alice.greet())  # Output: Hello, Alice!\n"
   ]
  },
  {
   "cell_type": "code",
   "execution_count": 194,
   "id": "715a6508",
   "metadata": {},
   "outputs": [],
   "source": [
    "def vol(rad):\n",
    "    return (4/3)*(3.14)*(rad**3)"
   ]
  },
  {
   "cell_type": "code",
   "execution_count": 195,
   "id": "88fe58c6",
   "metadata": {},
   "outputs": [
    {
     "data": {
      "text/plain": [
       "33.49333333333333"
      ]
     },
     "execution_count": 195,
     "metadata": {},
     "output_type": "execute_result"
    }
   ],
   "source": [
    "vol(2)"
   ]
  },
  {
   "cell_type": "code",
   "execution_count": 203,
   "id": "fc0d0a85",
   "metadata": {},
   "outputs": [],
   "source": [
    "def ran_check(num,low,high):\n",
    "    return num in range('low','high')"
   ]
  },
  {
   "cell_type": "code",
   "execution_count": 204,
   "id": "b1fd200a",
   "metadata": {},
   "outputs": [
    {
     "ename": "TypeError",
     "evalue": "'str' object cannot be interpreted as an integer",
     "output_type": "error",
     "traceback": [
      "\u001b[0;31m---------------------------------------------------------------------------\u001b[0m",
      "\u001b[0;31mTypeError\u001b[0m                                 Traceback (most recent call last)",
      "Cell \u001b[0;32mIn[204], line 1\u001b[0m\n\u001b[0;32m----> 1\u001b[0m \u001b[43mran_check\u001b[49m\u001b[43m(\u001b[49m\u001b[38;5;124;43m'\u001b[39;49m\u001b[38;5;124;43mc\u001b[39;49m\u001b[38;5;124;43m'\u001b[39;49m\u001b[43m,\u001b[49m\u001b[38;5;124;43m'\u001b[39;49m\u001b[38;5;124;43ma\u001b[39;49m\u001b[38;5;124;43m'\u001b[39;49m\u001b[43m,\u001b[49m\u001b[38;5;124;43m'\u001b[39;49m\u001b[38;5;124;43mz\u001b[39;49m\u001b[38;5;124;43m'\u001b[39;49m\u001b[43m)\u001b[49m\n",
      "Cell \u001b[0;32mIn[203], line 2\u001b[0m, in \u001b[0;36mran_check\u001b[0;34m(num, low, high)\u001b[0m\n\u001b[1;32m      1\u001b[0m \u001b[38;5;28;01mdef\u001b[39;00m \u001b[38;5;21mran_check\u001b[39m(num,low,high):\n\u001b[0;32m----> 2\u001b[0m     \u001b[38;5;28;01mreturn\u001b[39;00m num \u001b[38;5;129;01min\u001b[39;00m \u001b[38;5;28;43mrange\u001b[39;49m\u001b[43m(\u001b[49m\u001b[38;5;124;43m'\u001b[39;49m\u001b[38;5;124;43mlow\u001b[39;49m\u001b[38;5;124;43m'\u001b[39;49m\u001b[43m,\u001b[49m\u001b[38;5;124;43m'\u001b[39;49m\u001b[38;5;124;43mhigh\u001b[39;49m\u001b[38;5;124;43m'\u001b[39;49m\u001b[43m)\u001b[49m\n",
      "\u001b[0;31mTypeError\u001b[0m: 'str' object cannot be interpreted as an integer"
     ]
    }
   ],
   "source": [
    "ran_check('c','a','z')"
   ]
  },
  {
   "cell_type": "code",
   "execution_count": 208,
   "id": "7a38a68b",
   "metadata": {},
   "outputs": [],
   "source": [
    "def low_up(text):\n",
    "    count_low= 0\n",
    "    count_up =0\n",
    "    for i in text:\n",
    "        if i.isupper():\n",
    "            count_up +=1\n",
    "        elif i.islower():\n",
    "            count_low +=1\n",
    "        else:\n",
    "            pass\n",
    "    return count_low,count_up"
   ]
  },
  {
   "cell_type": "code",
   "execution_count": 209,
   "id": "7cb72fbb",
   "metadata": {},
   "outputs": [
    {
     "data": {
      "text/plain": [
       "(7, 1)"
      ]
     },
     "execution_count": 209,
     "metadata": {},
     "output_type": "execute_result"
    }
   ],
   "source": [
    "low_up('Narayana?')"
   ]
  },
  {
   "cell_type": "code",
   "execution_count": 210,
   "id": "5e00c44e",
   "metadata": {},
   "outputs": [],
   "source": [
    "def unique_list(lst):\n",
    "    return list(set(lst))"
   ]
  },
  {
   "cell_type": "code",
   "execution_count": 211,
   "id": "7dac5f83",
   "metadata": {},
   "outputs": [
    {
     "data": {
      "text/plain": [
       "[1, 2, 3, 4]"
      ]
     },
     "execution_count": 211,
     "metadata": {},
     "output_type": "execute_result"
    }
   ],
   "source": [
    "unique_list([1,1,2,2,3,3,4,4])"
   ]
  },
  {
   "cell_type": "code",
   "execution_count": 240,
   "id": "2449fb36",
   "metadata": {},
   "outputs": [],
   "source": [
    "\n",
    "def pallindrom(s):\n",
    "    s=s.replace(' ','')\n",
    "    if s== s[::-1]:\n",
    "        return ('given {} is a pallindrom'.format(s))\n",
    "    else:\n",
    "        return ('given {} is not a pollindrom'.format(s))"
   ]
  },
  {
   "cell_type": "code",
   "execution_count": 242,
   "id": "c582391e",
   "metadata": {},
   "outputs": [
    {
     "name": "stdout",
     "output_type": "stream",
     "text": [
      "CPU times: user 11 µs, sys: 2 µs, total: 13 µs\n",
      "Wall time: 17.6 µs\n"
     ]
    },
    {
     "data": {
      "text/plain": [
       "'given nun is a pallindrom'"
      ]
     },
     "execution_count": 242,
     "metadata": {},
     "output_type": "execute_result"
    }
   ],
   "source": [
    "%%time\n",
    "pallindrom('nun')"
   ]
  },
  {
   "cell_type": "code",
   "execution_count": 258,
   "id": "7c68ef12",
   "metadata": {},
   "outputs": [],
   "source": [
    "def recurse_fact(n):\n",
    "    if n == 0 or n == 1:\n",
    "        return 1\n",
    "    else:\n",
    "        return n*recurse_fact(n-1)\n",
    "    "
   ]
  },
  {
   "cell_type": "code",
   "execution_count": 259,
   "id": "57eb154b",
   "metadata": {},
   "outputs": [
    {
     "name": "stdout",
     "output_type": "stream",
     "text": [
      "6\n",
      "CPU times: user 54 µs, sys: 12 µs, total: 66 µs\n",
      "Wall time: 68.2 µs\n"
     ]
    }
   ],
   "source": [
    "%%time\n",
    "fact = recurse_fact(3)\n",
    "print(fact)"
   ]
  },
  {
   "cell_type": "code",
   "execution_count": 231,
   "id": "361f2886",
   "metadata": {},
   "outputs": [],
   "source": [
    "import math as m"
   ]
  },
  {
   "cell_type": "code",
   "execution_count": 236,
   "id": "49b15431",
   "metadata": {},
   "outputs": [
    {
     "data": {
      "text/plain": [
       "4"
      ]
     },
     "execution_count": 236,
     "metadata": {},
     "output_type": "execute_result"
    }
   ],
   "source": [
    "m.gcd(4,8)"
   ]
  },
  {
   "cell_type": "code",
   "execution_count": 237,
   "id": "8f3841eb",
   "metadata": {},
   "outputs": [
    {
     "data": {
      "text/plain": [
       "3.141592653589793"
      ]
     },
     "execution_count": 237,
     "metadata": {},
     "output_type": "execute_result"
    }
   ],
   "source": [
    "m.pi"
   ]
  },
  {
   "cell_type": "code",
   "execution_count": 248,
   "id": "b71a6481",
   "metadata": {},
   "outputs": [],
   "source": [
    "n= 'nani'"
   ]
  },
  {
   "cell_type": "code",
   "execution_count": 2,
   "id": "19a8a197",
   "metadata": {},
   "outputs": [
    {
     "name": "stdout",
     "output_type": "stream",
     "text": [
      "Hello from ClassC\n"
     ]
    }
   ],
   "source": [
    "class Base:\n",
    "    def greet(self):\n",
    "        return \"Hello base\"\n",
    "class ClassA(Base):\n",
    "    def greet(self):\n",
    "        return \"Hello from ClassA\"\n",
    "\n",
    "class ClassB(Base):\n",
    "    def greet(self):\n",
    "        return \"Hello from ClassB\"\n",
    "\n",
    "class ClassC(ClassA, ClassB):\n",
    "    def greet(self):\n",
    "        return \"Hello from ClassC\"\n",
    "\n",
    "# Create an instance of ClassC\n",
    "obj = ClassC()\n",
    "print(obj.greet())  # Output: Hello from ClassC\n"
   ]
  },
  {
   "cell_type": "code",
   "execution_count": 49,
   "id": "312bed46",
   "metadata": {},
   "outputs": [],
   "source": [
    "def user_choice():\n",
    "    choice = 'False'\n",
    "    Valid_range = False\n",
    "    while choice.isdigit() == False or valid_range == False:\n",
    "        choice = input(\"Please enter a number (0-10):\")\n",
    "        if choice.isdigit() == False:\n",
    "            print(\"invalid input! only digits allowed \")\n",
    "        if choice.isdigit() == True:\n",
    "            if int(choice) in range(0,11):\n",
    "                valid_range = True\n",
    "            else:\n",
    "                print(\"Sorry the number you entered is out of acceptable range (0-10)\")\n",
    "                valid_range = False\n",
    "    return int(choice)\n",
    "    "
   ]
  },
  {
   "cell_type": "code",
   "execution_count": 50,
   "id": "94b76282",
   "metadata": {},
   "outputs": [
    {
     "name": "stdout",
     "output_type": "stream",
     "text": [
      "Please enter a number (0-10):10\n"
     ]
    },
    {
     "data": {
      "text/plain": [
       "10"
      ]
     },
     "execution_count": 50,
     "metadata": {},
     "output_type": "execute_result"
    }
   ],
   "source": [
    "user_choice()"
   ]
  },
  {
   "cell_type": "code",
   "execution_count": 51,
   "id": "4ce8eed3",
   "metadata": {},
   "outputs": [],
   "source": [
    "game_list = [0,1,2]"
   ]
  },
  {
   "cell_type": "code",
   "execution_count": 52,
   "id": "b6de24a7",
   "metadata": {},
   "outputs": [],
   "source": [
    "def display_game(lst):\n",
    "    print(\"Here is the current list\")\n",
    "    print(lst)\n",
    "    "
   ]
  },
  {
   "cell_type": "code",
   "execution_count": 53,
   "id": "eb3fb48d",
   "metadata": {},
   "outputs": [
    {
     "name": "stdout",
     "output_type": "stream",
     "text": [
      "Here is the current list\n",
      "[0, 1, 2]\n"
     ]
    }
   ],
   "source": [
    "display_game(game_list)"
   ]
  },
  {
   "cell_type": "code",
   "execution_count": 54,
   "id": "9401c82f",
   "metadata": {},
   "outputs": [],
   "source": [
    "def position_choice():\n",
    "    choice = 'Wrong'\n",
    "    while choice not in ['0','1','2']:\n",
    "        choice = input(\"pick a position (0,1,2): \")\n",
    "        \n",
    "        if choice not in ['0','1','2']:\n",
    "            print(\"Sorry, invalid choice! \")\n",
    "            \n",
    "    return int(choice)"
   ]
  },
  {
   "cell_type": "code",
   "execution_count": 55,
   "id": "d4cf627d",
   "metadata": {},
   "outputs": [],
   "source": [
    "def replacement_choice(game_list,position):\n",
    "    user_placement= input(\"type a string to place at position: \")\n",
    "    game_list[position]= user_placement\n",
    "    return game_list"
   ]
  },
  {
   "cell_type": "code",
   "execution_count": 56,
   "id": "1845551b",
   "metadata": {},
   "outputs": [
    {
     "name": "stdout",
     "output_type": "stream",
     "text": [
      "type a string to place at position: nani\n"
     ]
    },
    {
     "data": {
      "text/plain": [
       "[0, 'nani', 2]"
      ]
     },
     "execution_count": 56,
     "metadata": {},
     "output_type": "execute_result"
    }
   ],
   "source": [
    "replacement_choice(game_list,1)"
   ]
  },
  {
   "cell_type": "code",
   "execution_count": 57,
   "id": "4619b24e",
   "metadata": {},
   "outputs": [],
   "source": [
    "def gameon_choice():\n",
    "    choice = 'Wrong'\n",
    "    while choice not in ['Y','N']:\n",
    "        choice = input(\"Keep playing? (Y or N) \")\n",
    "        \n",
    "        if choice not in ['Y','N']:\n",
    "            print(\"Sorry, I don't understand,please choose Y or N\")\n",
    "            \n",
    "    if choice == 'Y':\n",
    "        return True\n",
    "    else:\n",
    "        return False\n",
    "    "
   ]
  },
  {
   "cell_type": "code",
   "execution_count": 58,
   "id": "0c0edb27",
   "metadata": {},
   "outputs": [
    {
     "name": "stdout",
     "output_type": "stream",
     "text": [
      "Here is the current list\n",
      "[0, 1, 2]\n",
      "pick a position (0,1,2): two\n",
      "Sorry, invalid choice! \n",
      "pick a position (0,1,2): 0\n",
      "type a string to place at position: nani\n",
      "Here is the current list\n",
      "['nani', 1, 2]\n",
      "Keep playing? (Y or N) Y\n",
      "Here is the current list\n",
      "['nani', 1, 2]\n",
      "pick a position (0,1,2): 0\n",
      "type a string to place at position: zero\n",
      "Here is the current list\n",
      "['zero', 1, 2]\n",
      "Keep playing? (Y or N) N\n"
     ]
    }
   ],
   "source": [
    "game_on = True\n",
    "game_list = [0,1,2]\n",
    "\n",
    "while game_on:\n",
    "    display_game(game_list)\n",
    "    position = position_choice()\n",
    "    game_list=replacement_choice(game_list,position)\n",
    "    display_game(game_list)\n",
    "    game_on = gameon_choice()"
   ]
  },
  {
   "cell_type": "code",
   "execution_count": null,
   "id": "a25e55d6",
   "metadata": {},
   "outputs": [],
   "source": []
  },
  {
   "cell_type": "code",
   "execution_count": 1,
   "id": "bdd97e58",
   "metadata": {},
   "outputs": [],
   "source": [
    "from IPython.display import clear_output\n",
    "\n",
    "def display_board(board):\n",
    "    clear_output()\n",
    "    print(board[7]+'|'+board[8]+'|'+board[9])\n",
    "    print(board[4]+'|'+board[5]+'|'+board[6])\n",
    "    print(board[1]+'|'+board[2]+'|'+board[3])"
   ]
  },
  {
   "cell_type": "code",
   "execution_count": 2,
   "id": "d3c6bb39",
   "metadata": {},
   "outputs": [
    {
     "name": "stdout",
     "output_type": "stream",
     "text": [
      "X|O|X\n",
      "O|X|O\n",
      "X|O|X\n"
     ]
    }
   ],
   "source": [
    "board = ['#','X','O','X','O','X','O','X','O','X']\n",
    "display_board(board)\n",
    "display_board(board)"
   ]
  },
  {
   "cell_type": "code",
   "execution_count": 3,
   "id": "b9d3f110",
   "metadata": {},
   "outputs": [],
   "source": [
    "def player_input():\n",
    "    \n",
    "    marker= ''\n",
    "    while not (marker =='X' or marker == 'O'):\n",
    "        marker = input('Player1: choose X or O: ').upper()\n",
    "    if marker == 'X':\n",
    "        return  ('X','O')\n",
    "    else:\n",
    "        return ('O','X')"
   ]
  },
  {
   "cell_type": "code",
   "execution_count": 4,
   "id": "99f0f67f",
   "metadata": {},
   "outputs": [],
   "source": [
    "def place_marker(board,marker,position):\n",
    "    board[position]= marker"
   ]
  },
  {
   "cell_type": "code",
   "execution_count": 5,
   "id": "70e424ce",
   "metadata": {},
   "outputs": [],
   "source": [
    "def win_check(board, mark):\n",
    "    return ((board[7]== board[8]== board[9]== mark) or\n",
    "           (board[4]== board[5]== board[6]== mark) or\n",
    "           (board[1]== board[2]== board[3]== mark) or\n",
    "           (board[7]== board[4]== board[1]== mark) or\n",
    "           (board[8]== board[5]== board[2]== mark) or\n",
    "           (board[9]== board[6]== board[3]== mark) or\n",
    "           (board[7]== board[5]== board[3]== mark) or\n",
    "           (board[1]== board[5]== board[9]== mark) )"
   ]
  },
  {
   "cell_type": "code",
   "execution_count": 6,
   "id": "4ed12069",
   "metadata": {},
   "outputs": [],
   "source": [
    "import random\n",
    "\n",
    "def choose_first():\n",
    "    flip =random.randint(0,1)\n",
    "    if flip == 0:\n",
    "        return 'player 1'\n",
    "    else:\n",
    "        return 'player 2'"
   ]
  },
  {
   "cell_type": "code",
   "execution_count": 7,
   "id": "5d4772eb",
   "metadata": {},
   "outputs": [],
   "source": [
    "def space_check(board,position):\n",
    "    return board[position] == ' '"
   ]
  },
  {
   "cell_type": "code",
   "execution_count": 8,
   "id": "a016f6ad",
   "metadata": {},
   "outputs": [],
   "source": [
    "def full_board_check(board):\n",
    "    for i in range(1,10):\n",
    "        if space_check(board,i):\n",
    "            return False\n",
    "    return True\n",
    "        "
   ]
  },
  {
   "cell_type": "code",
   "execution_count": 9,
   "id": "e4fef51c",
   "metadata": {},
   "outputs": [],
   "source": [
    "def player_choice(board):\n",
    "    position = 0\n",
    "    \n",
    "    while position not in [1,2,3,4,5,6,7,8,9] or not space_check(board,position):\n",
    "        position = int(input('choose a position: (1-9)'))\n",
    "    return position"
   ]
  },
  {
   "cell_type": "code",
   "execution_count": 10,
   "id": "0e0c72dd",
   "metadata": {},
   "outputs": [],
   "source": [
    "def replay():\n",
    "    choice= input(\"play again? Enter Yes or No\")\n",
    "    return choice == 'Yes'"
   ]
  },
  {
   "cell_type": "code",
   "execution_count": 13,
   "id": "ef9023fe",
   "metadata": {},
   "outputs": [
    {
     "name": "stdout",
     "output_type": "stream",
     "text": [
      "X| | \n",
      "O|X|O\n",
      "X|O|X\n",
      "Player 1 Has WON!!\n",
      "play again? Enter Yes or NoNo\n"
     ]
    }
   ],
   "source": [
    "# while loop to keep running the game\n",
    "print('Welcome to Tic TAC TOE')\n",
    "while True:\n",
    "    #play the game\n",
    "    # set everything up (board,Whos First, Choose Markers X,O)\n",
    "    the_board = [' ']*10\n",
    "    player1_marker,player2_marker = player_input()\n",
    "    turn = choose_first()\n",
    "    print(turn + ' will go first')\n",
    "    \n",
    "    play_game = input('ready to play? y or n? ')\n",
    "    if play_game == 'y':\n",
    "        game_on = True\n",
    "    else:\n",
    "        game_on = False\n",
    "        \n",
    "    while game_on:\n",
    "        if turn == 'player 1':\n",
    "            display_board(the_board)\n",
    "            position = player_choice(the_board)\n",
    "            place_marker(the_board,player1_marker,position)\n",
    "            \n",
    "            if win_check(the_board,player1_marker):\n",
    "                display_board(the_board)\n",
    "                print('Player 1 Has WON!!')\n",
    "                game_on = False\n",
    "            else:\n",
    "                if full_board_check(the_board):\n",
    "                    display_board(the_board)\n",
    "                    print('TIE GAME!')\n",
    "                    game_on = False\n",
    "                else:\n",
    "                    turn = 'player 2'\n",
    "        else:\n",
    "            display_board(the_board)\n",
    "            position = player_choice(the_board)\n",
    "            place_marker(the_board,player2_marker,position)\n",
    "            \n",
    "            if win_check(the_board,player2_marker):\n",
    "                display_board(the_board)\n",
    "                print('Player 2 Has WON!!')\n",
    "                game_on = False\n",
    "            else:\n",
    "                if full_board_check(the_board):\n",
    "                    display_board(the_board)\n",
    "                    print('TIE GAME!')\n",
    "                    game_on = False\n",
    "                else:\n",
    "                    turn = 'player 1'\n",
    "            \n",
    "            \n",
    "            \n",
    "    if not replay():\n",
    "        break\n",
    "# break out of the while loop on reply ()"
   ]
  },
  {
   "cell_type": "code",
   "execution_count": 14,
   "id": "c972eba7",
   "metadata": {},
   "outputs": [],
   "source": [
    "class Line:\n",
    "    def __init__ (self,coor1,coor2):\n",
    "        self.coor1=coor1\n",
    "        self.coor2=coor2\n",
    "    def distance(self):\n",
    "        result = ((self.coor2[0]-self.coor1[0])**2+(self.coor2[1]-self.coor1[1])**2)**.5\n",
    "        return result\n",
    "    def slop(self):\n",
    "        pass"
   ]
  },
  {
   "cell_type": "code",
   "execution_count": 17,
   "id": "370b9662",
   "metadata": {},
   "outputs": [],
   "source": [
    "line=Line((3,2),(8,10))"
   ]
  },
  {
   "cell_type": "code",
   "execution_count": 22,
   "id": "4c6052e2",
   "metadata": {},
   "outputs": [
    {
     "data": {
      "text/plain": [
       "9.43"
      ]
     },
     "execution_count": 22,
     "metadata": {},
     "output_type": "execute_result"
    }
   ],
   "source": [
    "round(line.distance(),2)"
   ]
  },
  {
   "cell_type": "code",
   "execution_count": 24,
   "id": "9596bf91",
   "metadata": {},
   "outputs": [],
   "source": [
    "class Account():\n",
    "    def __init__(self,owner,balance):\n",
    "        self.owner= owner\n",
    "        self.balance = balance\n",
    "    def deposit(self,amount):\n",
    "        self.balance= self.balance + amount\n",
    "        \n",
    "    def withdraw(self,amount):\n",
    "        if self.balance >= amount:\n",
    "            self.balance = self.balance-amount\n",
    "            print(f\" amount {amount} successfully withdraw from your account current balance is {self.balance}\")\n",
    "        else:\n",
    "            print(\"Insufficient Funds please chose less than or equal to {}\".format(self.balance))"
   ]
  },
  {
   "cell_type": "code",
   "execution_count": 26,
   "id": "8b2bf631",
   "metadata": {},
   "outputs": [],
   "source": [
    "my_account= Account('Narayana',6000)"
   ]
  },
  {
   "cell_type": "code",
   "execution_count": 27,
   "id": "0d63f95a",
   "metadata": {},
   "outputs": [
    {
     "name": "stdout",
     "output_type": "stream",
     "text": [
      " amount 6000successfully withdraw from your account current balance is 4000\n"
     ]
    }
   ],
   "source": [
    "my_account.owner\n",
    "my_account.balance\n",
    "my_account.deposit(4000)\n",
    "my_account.withdraw(6000)"
   ]
  },
  {
   "cell_type": "code",
   "execution_count": 28,
   "id": "913b0f5d",
   "metadata": {},
   "outputs": [
    {
     "data": {
      "text/plain": [
       "'Narayana'"
      ]
     },
     "execution_count": 28,
     "metadata": {},
     "output_type": "execute_result"
    }
   ],
   "source": [
    "my_account.owner"
   ]
  },
  {
   "cell_type": "code",
   "execution_count": 29,
   "id": "f19a9860",
   "metadata": {},
   "outputs": [
    {
     "name": "stdout",
     "output_type": "stream",
     "text": [
      " amount 4000successfully withdraw from your account current balance is 0\n"
     ]
    }
   ],
   "source": [
    "my_account.withdraw(4000)"
   ]
  },
  {
   "cell_type": "code",
   "execution_count": 30,
   "id": "3429dc3c",
   "metadata": {},
   "outputs": [
    {
     "data": {
      "text/plain": [
       "0"
      ]
     },
     "execution_count": 30,
     "metadata": {},
     "output_type": "execute_result"
    }
   ],
   "source": [
    "my_account.balance"
   ]
  },
  {
   "cell_type": "code",
   "execution_count": 31,
   "id": "e7537154",
   "metadata": {},
   "outputs": [
    {
     "name": "stdout",
     "output_type": "stream",
     "text": [
      "Insufficient Funds please chose less than or equal to 0\n"
     ]
    }
   ],
   "source": [
    "my_account.withdraw(500)"
   ]
  },
  {
   "cell_type": "code",
   "execution_count": 33,
   "id": "bd1c3254",
   "metadata": {},
   "outputs": [],
   "source": [
    "my_account.balance = 5000"
   ]
  },
  {
   "cell_type": "code",
   "execution_count": 34,
   "id": "db27ae64",
   "metadata": {},
   "outputs": [
    {
     "data": {
      "text/plain": [
       "5000"
      ]
     },
     "execution_count": 34,
     "metadata": {},
     "output_type": "execute_result"
    }
   ],
   "source": [
    "my_account.balance"
   ]
  },
  {
   "cell_type": "code",
   "execution_count": 36,
   "id": "bf671911",
   "metadata": {},
   "outputs": [],
   "source": [
    "import numpy as np"
   ]
  },
  {
   "cell_type": "code",
   "execution_count": 38,
   "id": "885f3da0",
   "metadata": {},
   "outputs": [],
   "source": [
    "k=[1,2,3,45,5]"
   ]
  },
  {
   "cell_type": "code",
   "execution_count": 39,
   "id": "5e4c797b",
   "metadata": {},
   "outputs": [],
   "source": [
    "r= np.array(k)"
   ]
  },
  {
   "cell_type": "code",
   "execution_count": 40,
   "id": "404b2d56",
   "metadata": {},
   "outputs": [
    {
     "data": {
      "text/plain": [
       "array([ 1,  2,  3, 45,  5])"
      ]
     },
     "execution_count": 40,
     "metadata": {},
     "output_type": "execute_result"
    }
   ],
   "source": [
    "r"
   ]
  },
  {
   "cell_type": "code",
   "execution_count": 41,
   "id": "c417a357",
   "metadata": {},
   "outputs": [],
   "source": [
    "del r"
   ]
  },
  {
   "cell_type": "code",
   "execution_count": 48,
   "id": "fbfcf576",
   "metadata": {},
   "outputs": [
    {
     "data": {
      "text/markdown": [
       "#TRY AND EXCEPT BLOCK\n"
      ],
      "text/plain": [
       "<IPython.core.display.Markdown object>"
      ]
     },
     "metadata": {},
     "output_type": "display_data"
    }
   ],
   "source": [
    "%%markdown\n",
    "#TRY AND EXCEPT BLOCK"
   ]
  },
  {
   "cell_type": "code",
   "execution_count": 54,
   "id": "afde77f9",
   "metadata": {},
   "outputs": [
    {
     "name": "stdout",
     "output_type": "stream",
     "text": [
      "error\n",
      "error\n",
      "error\n"
     ]
    }
   ],
   "source": [
    "for i in ['a','b','c']:\n",
    "    try:\n",
    "        print(i**2)\n",
    "    except :\n",
    "        print(\"error\")\n",
    "    "
   ]
  },
  {
   "cell_type": "code",
   "execution_count": 55,
   "id": "83b052ed",
   "metadata": {},
   "outputs": [
    {
     "name": "stdout",
     "output_type": "stream",
     "text": [
      "{1: 1, 2: 2, 3: 3, 4: 4}\n"
     ]
    }
   ],
   "source": [
    "def count_duplicates(collection):\n",
    "    counts = {}\n",
    "    for item in collection:\n",
    "        if item in counts:\n",
    "            counts[item] += 1\n",
    "        else:\n",
    "            counts[item] = 1\n",
    "    return counts\n",
    "\n",
    "# Example usage\n",
    "my_collection = [1, 2, 2, 3, 3, 3, 4, 4, 4, 4]\n",
    "print(count_duplicates(my_collection))\n"
   ]
  },
  {
   "cell_type": "code",
   "execution_count": 51,
   "id": "dc7303ae",
   "metadata": {},
   "outputs": [],
   "source": [
    "def turn():\n",
    "    for i in range (5):\n",
    "        yield i\n",
    "      \n",
    "        "
   ]
  },
  {
   "cell_type": "code",
   "execution_count": null,
   "id": "b0992f83",
   "metadata": {},
   "outputs": [],
   "source": []
  },
  {
   "cell_type": "code",
   "execution_count": 52,
   "id": "96a24068",
   "metadata": {},
   "outputs": [
    {
     "name": "stdout",
     "output_type": "stream",
     "text": [
      "0\n",
      "1\n",
      "2\n",
      "3\n",
      "4\n"
     ]
    }
   ],
   "source": [
    "for i in turn():\n",
    "    print(i)"
   ]
  },
  {
   "cell_type": "code",
   "execution_count": 58,
   "id": "e0dbd45b",
   "metadata": {},
   "outputs": [],
   "source": [
    "def gen_nums () :\n",
    "    n = 0\n",
    "    while n < 4:\n",
    "        yield n\n",
    "        n += 1\n",
    "    yield 42"
   ]
  },
  {
   "cell_type": "code",
   "execution_count": 59,
   "id": "4e2ce930",
   "metadata": {},
   "outputs": [
    {
     "name": "stdout",
     "output_type": "stream",
     "text": [
      "0\n",
      "1\n",
      "2\n",
      "3\n",
      "42\n"
     ]
    }
   ],
   "source": [
    "for num in gen_nums () :\n",
    "    print ( num )"
   ]
  },
  {
   "cell_type": "code",
   "execution_count": 60,
   "id": "41a2c6fd",
   "metadata": {},
   "outputs": [
    {
     "data": {
      "text/plain": [
       "'/home/tadi'"
      ]
     },
     "execution_count": 60,
     "metadata": {},
     "output_type": "execute_result"
    }
   ],
   "source": [
    "pwd\n"
   ]
  },
  {
   "cell_type": "code",
   "execution_count": 62,
   "id": "307a2d77",
   "metadata": {},
   "outputs": [
    {
     "name": "stdout",
     "output_type": "stream",
     "text": [
      "/home/tadi/python-demo\n"
     ]
    },
    {
     "name": "stderr",
     "output_type": "stream",
     "text": [
      "/usr/lib/python3/dist-packages/IPython/core/magics/osm.py:417: UserWarning: using dhist requires you to install the `pickleshare` library.\n",
      "  self.shell.db['dhist'] = compress_dhist(dhist)[-100:]\n"
     ]
    }
   ],
   "source": [
    "cd python-demo/\n"
   ]
  },
  {
   "cell_type": "code",
   "execution_count": 63,
   "id": "16cbc157",
   "metadata": {},
   "outputs": [
    {
     "data": {
      "text/plain": [
       "'/home/tadi/python-demo'"
      ]
     },
     "execution_count": 63,
     "metadata": {},
     "output_type": "execute_result"
    }
   ],
   "source": [
    "def house_records_from_file ( path ):\n",
    "lines = lines_from_file ( path )\n",
    "for house in house_records ( lines ):\n",
    "yield house\n",
    "# Then in your program :\n",
    "for house in house_records_from_file (\" housedata . txt \"):\n",
    "print ( house [ \" address \" ])"
   ]
  },
  {
   "cell_type": "code",
   "execution_count": 236,
   "id": "eed5f61f",
   "metadata": {},
   "outputs": [],
   "source": [
    "def read_file(path):\n",
    "    with open(path)as handle:\n",
    "        for line in handle:\n",
    "            yield line.rstrip(\"\\n\")\n",
    "            \n",
    "        \n",
    "        "
   ]
  },
  {
   "cell_type": "code",
   "execution_count": 237,
   "id": "1eadf6c3",
   "metadata": {},
   "outputs": [],
   "source": [
    "nani= read_file('house1.txt')"
   ]
  },
  {
   "cell_type": "code",
   "execution_count": null,
   "id": "7fcf2977",
   "metadata": {},
   "outputs": [],
   "source": []
  },
  {
   "cell_type": "code",
   "execution_count": 238,
   "id": "35f7d213",
   "metadata": {},
   "outputs": [
    {
     "name": "stdout",
     "output_type": "stream",
     "text": [
      "address   1423 99 th Ave\n"
     ]
    }
   ],
   "source": [
    "key, value = next(nani).split(':',1)\n",
    "print(key,value)"
   ]
  },
  {
   "cell_type": "code",
   "execution_count": 239,
   "id": "f50b2b20",
   "metadata": {},
   "outputs": [
    {
     "name": "stdout",
     "output_type": "stream",
     "text": [
      "address \n"
     ]
    }
   ],
   "source": [
    "print(key)"
   ]
  },
  {
   "cell_type": "code",
   "execution_count": 250,
   "id": "9d7c8699",
   "metadata": {},
   "outputs": [],
   "source": [
    "def house_records(lines):\n",
    "    record = {}\n",
    "    for line in lines:\n",
    "        if line == '':\n",
    "            yield record\n",
    "            record = {}\n",
    "            continue\n",
    "        \n",
    "        key,value = line.split(': ',1)\n",
    "        record [key.strip()] = value\n",
    "    yield record"
   ]
  },
  {
   "cell_type": "code",
   "execution_count": 255,
   "id": "e5e8bf99",
   "metadata": {},
   "outputs": [],
   "source": [
    "def house_records_from_file(path):\n",
    "    lines = read_file(path)\n",
    "    #for house in house_records(lines):\n",
    "    yield from house_records(lines)\n",
    "        "
   ]
  },
  {
   "cell_type": "code",
   "execution_count": 256,
   "id": "6228aa3b",
   "metadata": {},
   "outputs": [
    {
     "name": "stdout",
     "output_type": "stream",
     "text": [
      "{'address': '1423 99 th Ave', 'square_feet': '1705', 'price_usd': '340210'}\n",
      "1423 99 th Ave\n",
      "{'address': '24257 Pueblo Dr', 'square_feet': '2305', 'price_usd': '170210'}\n",
      "24257 Pueblo Dr\n",
      "{'address': '127 Cochran', 'square_feet': '2068', 'price_usd': '320500'}\n",
      "127 Cochran\n"
     ]
    }
   ],
   "source": [
    "for house in house_records_from_file('house1.txt'):\n",
    "    print(house)\n",
    "    print(house['address'])"
   ]
  },
  {
   "cell_type": "code",
   "execution_count": 257,
   "id": "c5a7f8a4",
   "metadata": {},
   "outputs": [],
   "source": [
    "k=[1,2,3,4,5,6]\n"
   ]
  },
  {
   "cell_type": "code",
   "execution_count": 258,
   "id": "6502b2e6",
   "metadata": {},
   "outputs": [],
   "source": [
    "square= lambda x: x**2"
   ]
  },
  {
   "cell_type": "code",
   "execution_count": 262,
   "id": "d57ac9d4",
   "metadata": {},
   "outputs": [
    {
     "name": "stdout",
     "output_type": "stream",
     "text": [
      "[1, 4, 9, 16, 25, 36]\n"
     ]
    }
   ],
   "source": [
    "print(list((map(square,k))))"
   ]
  },
  {
   "cell_type": "code",
   "execution_count": 249,
   "id": "0335ed3d",
   "metadata": {},
   "outputs": [
    {
     "data": {
      "text/plain": [
       "'nani'"
      ]
     },
     "execution_count": 249,
     "metadata": {},
     "output_type": "execute_result"
    }
   ],
   "source": [
    "list()"
   ]
  },
  {
   "cell_type": "code",
   "execution_count": 281,
   "id": "bec9b571",
   "metadata": {},
   "outputs": [
    {
     "name": "stdout",
     "output_type": "stream",
     "text": [
      "1234"
     ]
    }
   ],
   "source": [
    "for i in range(1,5):   \n",
    "    if i%2 != 0:\n",
    "        print(i,end=\"\")\n",
    "    else:\n",
    "        print(i,end='')\n",
    "            \n",
    "    "
   ]
  },
  {
   "cell_type": "code",
   "execution_count": 298,
   "id": "e831f99c",
   "metadata": {},
   "outputs": [],
   "source": [
    "def printlog ( func ) :\n",
    "    def wrapper (*args,**kwargs) :\n",
    "        print ( \" CALLING : \" + func . __name__ )\n",
    "        return func (*args,**kwargs )\n",
    "    return wrapper\n",
    "@printlog\n",
    "def foo (x ) :\n",
    "    print ( x + 2)"
   ]
  },
  {
   "cell_type": "code",
   "execution_count": 299,
   "id": "8ea34543",
   "metadata": {},
   "outputs": [
    {
     "name": "stdout",
     "output_type": "stream",
     "text": [
      " CALLING : foo\n",
      "5\n"
     ]
    }
   ],
   "source": [
    "foo(3)"
   ]
  },
  {
   "cell_type": "code",
   "execution_count": 300,
   "id": "ccd3b74f",
   "metadata": {},
   "outputs": [],
   "source": [
    "@printlog\n",
    "def baz(x,y):\n",
    "    return x*y"
   ]
  },
  {
   "cell_type": "code",
   "execution_count": 301,
   "id": "2f0a92b9",
   "metadata": {},
   "outputs": [
    {
     "name": "stdout",
     "output_type": "stream",
     "text": [
      " CALLING : baz\n"
     ]
    },
    {
     "data": {
      "text/plain": [
       "6"
      ]
     },
     "execution_count": 301,
     "metadata": {},
     "output_type": "execute_result"
    }
   ],
   "source": [
    "baz(2,3)"
   ]
  },
  {
   "cell_type": "code",
   "execution_count": 347,
   "id": "00a39718",
   "metadata": {},
   "outputs": [],
   "source": [
    "def data_dec(func):\n",
    "    data={'total':0,'count':0}\n",
    "    def wrapper(*args,**kwargs):\n",
    "        val = func(*args,**kwargs)\n",
    "        data['total'] += val\n",
    "        data['count'] += 1\n",
    "        print(f\"average {func.__name__} is average {data['total']/data['count']:.01f}\")\n",
    "        return func(*args,**kwargs)\n",
    "    wrapper.data =data\n",
    "    return wrapper"
   ]
  },
  {
   "cell_type": "code",
   "execution_count": 348,
   "id": "72f3aa8b",
   "metadata": {},
   "outputs": [],
   "source": [
    "@data_dec\n",
    "def foo1(x):\n",
    "    return x+2"
   ]
  },
  {
   "cell_type": "code",
   "execution_count": 355,
   "id": "01cff015",
   "metadata": {},
   "outputs": [
    {
     "name": "stdout",
     "output_type": "stream",
     "text": [
      "average foo1 is average 5.0\n"
     ]
    },
    {
     "data": {
      "text/plain": [
       "5"
      ]
     },
     "execution_count": 355,
     "metadata": {},
     "output_type": "execute_result"
    }
   ],
   "source": [
    "foo1(3)"
   ]
  },
  {
   "cell_type": "code",
   "execution_count": 350,
   "id": "bdcd0973",
   "metadata": {},
   "outputs": [],
   "source": [
    "@data_dec\n",
    "def bar(x):\n",
    "    return x+3"
   ]
  },
  {
   "cell_type": "code",
   "execution_count": 357,
   "id": "b4bc79bf",
   "metadata": {},
   "outputs": [
    {
     "name": "stdout",
     "output_type": "stream",
     "text": [
      "average bar is average 6.0\n"
     ]
    },
    {
     "data": {
      "text/plain": [
       "6"
      ]
     },
     "execution_count": 357,
     "metadata": {},
     "output_type": "execute_result"
    }
   ],
   "source": [
    "bar(3)"
   ]
  },
  {
   "cell_type": "code",
   "execution_count": 356,
   "id": "1cc2bdd5",
   "metadata": {},
   "outputs": [
    {
     "data": {
      "text/plain": [
       "{'total': 10, 'count': 2}"
      ]
     },
     "execution_count": 356,
     "metadata": {},
     "output_type": "execute_result"
    }
   ],
   "source": [
    "foo1.data"
   ]
  },
  {
   "cell_type": "code",
   "execution_count": 358,
   "id": "763f9b60",
   "metadata": {},
   "outputs": [
    {
     "data": {
      "text/plain": [
       "{'total': 12, 'count': 2}"
      ]
     },
     "execution_count": 358,
     "metadata": {},
     "output_type": "execute_result"
    }
   ],
   "source": [
    "bar.data"
   ]
  },
  {
   "cell_type": "code",
   "execution_count": 359,
   "id": "924df9ca",
   "metadata": {},
   "outputs": [],
   "source": [
    "class Prefixer :\n",
    "    def __init__ ( self , prefix ):\n",
    "        self . prefix = prefix\n",
    "    def __call__ ( self , message ):\n",
    "        return self . prefix + message"
   ]
  },
  {
   "cell_type": "code",
   "execution_count": 362,
   "id": "f4592bf4",
   "metadata": {},
   "outputs": [
    {
     "name": "stdout",
     "output_type": "stream",
     "text": [
      "<class '__main__.Prefixer'>\n"
     ]
    }
   ],
   "source": [
    "print(Prefixer)"
   ]
  },
  {
   "cell_type": "code",
   "execution_count": 363,
   "id": "a7303acb",
   "metadata": {},
   "outputs": [],
   "source": [
    "l= Prefixer('nani')"
   ]
  },
  {
   "cell_type": "code",
   "execution_count": 366,
   "id": "cfead096",
   "metadata": {},
   "outputs": [
    {
     "name": "stdout",
     "output_type": "stream",
     "text": [
      "naninani\n"
     ]
    }
   ],
   "source": [
    "print(l('nani'))"
   ]
  },
  {
   "cell_type": "code",
   "execution_count": 367,
   "id": "9298d472",
   "metadata": {},
   "outputs": [
    {
     "ename": "IndentationError",
     "evalue": "expected an indented block after class definition on line 1 (2214840482.py, line 2)",
     "output_type": "error",
     "traceback": [
      "\u001b[0;36m  Cell \u001b[0;32mIn[367], line 2\u001b[0;36m\u001b[0m\n\u001b[0;31m    def __init__ ( self , func ) :\u001b[0m\n\u001b[0m    ^\u001b[0m\n\u001b[0;31mIndentationError\u001b[0m\u001b[0;31m:\u001b[0m expected an indented block after class definition on line 1\n"
     ]
    }
   ],
   "source": [
    "class CountCalls :\n",
    "def __init__ ( self , func ) :\n",
    "self . func = func\n",
    "self . count = 1\n",
    "def __call__ ( self , * args , ** kwargs ):\n",
    "print ( f \" # of calls : { self . count }\")\n",
    "self . count += 1\n",
    "return self . func (* args , ** kwargs )\n",
    "@CountCalls\n",
    "def foo (x ) :\n",
    "return x + 2"
   ]
  },
  {
   "cell_type": "code",
   "execution_count": 369,
   "id": "6738ceeb",
   "metadata": {},
   "outputs": [],
   "source": [
    "class CountCalls:\n",
    "    def __init__(self,func):\n",
    "        self.func=func\n",
    "        self.count =1\n",
    "    def __call__(self,*args,**kwargs):\n",
    "        self.count +=1\n",
    "        return self.func(*args,**kwargs)"
   ]
  },
  {
   "cell_type": "code",
   "execution_count": 370,
   "id": "86a48fc5",
   "metadata": {},
   "outputs": [],
   "source": [
    "@CountCalls\n",
    "def foo2(x):\n",
    "    return x*2"
   ]
  },
  {
   "cell_type": "code",
   "execution_count": 372,
   "id": "d7e9da7f",
   "metadata": {},
   "outputs": [
    {
     "data": {
      "text/plain": [
       "4"
      ]
     },
     "execution_count": 372,
     "metadata": {},
     "output_type": "execute_result"
    }
   ],
   "source": [
    "foo2(2)"
   ]
  },
  {
   "cell_type": "code",
   "execution_count": 410,
   "id": "b6692776",
   "metadata": {},
   "outputs": [],
   "source": [
    "def money(money):\n",
    "    t=()\n",
    "    try:\n",
    "        t=money.split('.')\n",
    "        dollars= int(t[0].strip('$'))\n",
    "        cents= int(t[1])\n",
    "         \n",
    "    except Exception as err:\n",
    "        print(err)\n",
    "    \n",
    "   "
   ]
  },
  {
   "cell_type": "code",
   "execution_count": 411,
   "id": "7b7e7301",
   "metadata": {},
   "outputs": [
    {
     "name": "stdout",
     "output_type": "stream",
     "text": [
      "invalid literal for int() with base 10: 'money'\n"
     ]
    }
   ],
   "source": [
    "money('money')"
   ]
  },
  {
   "cell_type": "code",
   "execution_count": 389,
   "id": "11cf39bf",
   "metadata": {},
   "outputs": [
    {
     "data": {
      "text/plain": [
       "'2'"
      ]
     },
     "execution_count": 389,
     "metadata": {},
     "output_type": "execute_result"
    }
   ],
   "source": [
    "n='$2'\n",
    "n.strip('$')"
   ]
  },
  {
   "cell_type": "code",
   "execution_count": 412,
   "id": "f9323d17",
   "metadata": {},
   "outputs": [
    {
     "name": "stderr",
     "output_type": "stream",
     "text": [
      "WARNING:root: This is a warning message .\n",
      "ERROR:root: Uh oh . Something went wrong .\n",
      "CRITICAL:root: We have a big problem !\n"
     ]
    }
   ],
   "source": [
    "import logging \n",
    "logging . debug ( \" Small detail . Useful for troubleshooting .\")\n",
    "logging . info ( \" This is informative .\")\n",
    "logging . warning ( \" This is a warning message .\")\n",
    "logging . error ( \" Uh oh . Something went wrong .\")\n",
    "logging . critical ( \" We have a big problem !\")"
   ]
  },
  {
   "cell_type": "code",
   "execution_count": 414,
   "id": "7bef71f8",
   "metadata": {},
   "outputs": [
    {
     "name": "stderr",
     "output_type": "stream",
     "text": [
      "ERROR:root: We ate  14 of your  oranges  . Thanks !\n"
     ]
    }
   ],
   "source": [
    "num_fruits = 14\n",
    "fruit_name = \" oranges \"\n",
    "logging . error(\n",
    "    \" We ate % d of your % s . Thanks !\" ,\n",
    "    num_fruits , fruit_name )"
   ]
  },
  {
   "cell_type": "code",
   "execution_count": null,
   "id": "b3ed655a",
   "metadata": {},
   "outputs": [],
   "source": []
  }
 ],
 "metadata": {
  "kernelspec": {
   "display_name": "Python 3 (ipykernel)",
   "language": "python",
   "name": "python3"
  },
  "language_info": {
   "codemirror_mode": {
    "name": "ipython",
    "version": 3
   },
   "file_extension": ".py",
   "mimetype": "text/x-python",
   "name": "python",
   "nbconvert_exporter": "python",
   "pygments_lexer": "ipython3",
   "version": "3.12.3"
  }
 },
 "nbformat": 4,
 "nbformat_minor": 5
}
